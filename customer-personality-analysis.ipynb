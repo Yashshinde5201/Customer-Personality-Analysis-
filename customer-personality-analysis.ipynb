{
 "cells": [
  {
   "cell_type": "markdown",
   "metadata": {},
   "source": [
    "### **Lets import the required libraries...**"
   ]
  },
  {
   "cell_type": "code",
   "execution_count": 14,
   "metadata": {
    "execution": {
     "iopub.execute_input": "2022-07-31T07:21:15.491856Z",
     "iopub.status.busy": "2022-07-31T07:21:15.491366Z",
     "iopub.status.idle": "2022-07-31T07:21:17.292635Z",
     "shell.execute_reply": "2022-07-31T07:21:17.290835Z",
     "shell.execute_reply.started": "2022-07-31T07:21:15.491745Z"
    }
   },
   "outputs": [
    {
     "data": {
      "image/png": "[encoded data removed]",
      "text/plain": [
       "<Figure size 400x100 with 1 Axes>"
      ]
     },
     "metadata": {},
     "output_type": "display_data"
    }
   ],
   "source": [
    "import pandas as pd # Python library for data analysis and data frame\n",
    "import numpy as np # Numerical Python library for linear algebra and computations\n",
    "pd.set_option('display.max_columns', None) # code to display all columns\n",
    "\n",
    "# Visualisation libraries\n",
    "import matplotlib.pyplot as plt\n",
    "import seaborn as sns\n",
    "import plotly.express as px\n",
    "%matplotlib inline\n",
    "\n",
    "from datetime import date, datetime # for manupulating time and date columns\n",
    "\n",
    "from sklearn.preprocessing import OneHotEncoder, OrdinalEncoder, StandardScaler # For handling categorical column and scaling numeric columns\n",
    "\n",
    "# Libraries for clustering and evaluation\n",
    "from sklearn.cluster import KMeans\n",
    "from yellowbrick.cluster import KElbowVisualizer\n",
    "from sklearn.metrics import silhouette_score\n",
    "\n",
    "import warnings\n",
    "warnings.filterwarnings(\"ignore\") # To prevent kernel from showing any warning\n",
    "\n",
    "# set the color palette\n",
    "palette = sns.color_palette([\"#292859\",'#373482','#504DB6','#5B59DD'])\n",
    "sns.palplot(palette) # print color palette"
   ]
  },
  {
   "cell_type": "markdown",
   "metadata": {},
   "source": [
    "### **Its time to load our data to `df` variable...**  "
   ]
  },
  {
   "cell_type": "code",
   "execution_count": 15,
   "metadata": {
    "execution": {
     "iopub.execute_input": "2022-07-31T07:21:17.296587Z",
     "iopub.status.busy": "2022-07-31T07:21:17.295667Z",
     "iopub.status.idle": "2022-07-31T07:21:17.345186Z",
     "shell.execute_reply": "2022-07-31T07:21:17.343487Z",
     "shell.execute_reply.started": "2022-07-31T07:21:17.296534Z"
    }
   },
   "outputs": [
    {
     "data": {
      "text/html": [
       "<div>\n",
       "<style scoped>\n",
       "    .dataframe tbody tr th:only-of-type {\n",
       "        vertical-align: middle;\n",
       "    }\n",
       "\n",
       "    .dataframe tbody tr th {\n",
       "        vertical-align: top;\n",
       "    }\n",
       "\n",
       "    .dataframe thead th {\n",
       "        text-align: right;\n",
       "    }\n",
       "</style>\n",
       "<table border=\"1\" class=\"dataframe\">\n",
       "  <thead>\n",
       "    <tr style=\"text-align: right;\">\n",
       "      <th></th>\n",
       "      <th>ID</th>\n",
       "      <th>Year_Birth</th>\n",
       "      <th>Education</th>\n",
       "      <th>Marital_Status</th>\n",
       "      <th>Income</th>\n",
       "      <th>Kidhome</th>\n",
       "      <th>Teenhome</th>\n",
       "      <th>Dt_Customer</th>\n",
       "      <th>Recency</th>\n",
       "      <th>MntWines</th>\n",
       "      <th>MntFruits</th>\n",
       "      <th>MntMeatProducts</th>\n",
       "      <th>MntFishProducts</th>\n",
       "      <th>MntSweetProducts</th>\n",
       "      <th>MntGoldProds</th>\n",
       "      <th>NumDealsPurchases</th>\n",
       "      <th>NumWebPurchases</th>\n",
       "      <th>NumCatalogPurchases</th>\n",
       "      <th>NumStorePurchases</th>\n",
       "      <th>NumWebVisitsMonth</th>\n",
       "      <th>AcceptedCmp3</th>\n",
       "      <th>AcceptedCmp4</th>\n",
       "      <th>AcceptedCmp5</th>\n",
       "      <th>AcceptedCmp1</th>\n",
       "      <th>AcceptedCmp2</th>\n",
       "      <th>Complain</th>\n",
       "      <th>Z_CostContact</th>\n",
       "      <th>Z_Revenue</th>\n",
       "      <th>Response</th>\n",
       "    </tr>\n",
       "  </thead>\n",
       "  <tbody>\n",
       "    <tr>\n",
       "      <th>0</th>\n",
       "      <td>5524</td>\n",
       "      <td>1957</td>\n",
       "      <td>Graduation</td>\n",
       "      <td>Single</td>\n",
       "      <td>58138.0</td>\n",
       "      <td>0</td>\n",
       "      <td>0</td>\n",
       "      <td>2012-09-04</td>\n",
       "      <td>58</td>\n",
       "      <td>635</td>\n",
       "      <td>88</td>\n",
       "      <td>546</td>\n",
       "      <td>172</td>\n",
       "      <td>88</td>\n",
       "      <td>88</td>\n",
       "      <td>3</td>\n",
       "      <td>8</td>\n",
       "      <td>10</td>\n",
       "      <td>4</td>\n",
       "      <td>7</td>\n",
       "      <td>0</td>\n",
       "      <td>0</td>\n",
       "      <td>0</td>\n",
       "      <td>0</td>\n",
       "      <td>0</td>\n",
       "      <td>0</td>\n",
       "      <td>3</td>\n",
       "      <td>11</td>\n",
       "      <td>1</td>\n",
       "    </tr>\n",
       "    <tr>\n",
       "      <th>1</th>\n",
       "      <td>2174</td>\n",
       "      <td>1954</td>\n",
       "      <td>Graduation</td>\n",
       "      <td>Single</td>\n",
       "      <td>46344.0</td>\n",
       "      <td>1</td>\n",
       "      <td>1</td>\n",
       "      <td>2014-03-08</td>\n",
       "      <td>38</td>\n",
       "      <td>11</td>\n",
       "      <td>1</td>\n",
       "      <td>6</td>\n",
       "      <td>2</td>\n",
       "      <td>1</td>\n",
       "      <td>6</td>\n",
       "      <td>2</td>\n",
       "      <td>1</td>\n",
       "      <td>1</td>\n",
       "      <td>2</td>\n",
       "      <td>5</td>\n",
       "      <td>0</td>\n",
       "      <td>0</td>\n",
       "      <td>0</td>\n",
       "      <td>0</td>\n",
       "      <td>0</td>\n",
       "      <td>0</td>\n",
       "      <td>3</td>\n",
       "      <td>11</td>\n",
       "      <td>0</td>\n",
       "    </tr>\n",
       "    <tr>\n",
       "      <th>2</th>\n",
       "      <td>4141</td>\n",
       "      <td>1965</td>\n",
       "      <td>Graduation</td>\n",
       "      <td>Together</td>\n",
       "      <td>71613.0</td>\n",
       "      <td>0</td>\n",
       "      <td>0</td>\n",
       "      <td>2013-08-21</td>\n",
       "      <td>26</td>\n",
       "      <td>426</td>\n",
       "      <td>49</td>\n",
       "      <td>127</td>\n",
       "      <td>111</td>\n",
       "      <td>21</td>\n",
       "      <td>42</td>\n",
       "      <td>1</td>\n",
       "      <td>8</td>\n",
       "      <td>2</td>\n",
       "      <td>10</td>\n",
       "      <td>4</td>\n",
       "      <td>0</td>\n",
       "      <td>0</td>\n",
       "      <td>0</td>\n",
       "      <td>0</td>\n",
       "      <td>0</td>\n",
       "      <td>0</td>\n",
       "      <td>3</td>\n",
       "      <td>11</td>\n",
       "      <td>0</td>\n",
       "    </tr>\n",
       "    <tr>\n",
       "      <th>3</th>\n",
       "      <td>6182</td>\n",
       "      <td>1984</td>\n",
       "      <td>Graduation</td>\n",
       "      <td>Together</td>\n",
       "      <td>26646.0</td>\n",
       "      <td>1</td>\n",
       "      <td>0</td>\n",
       "      <td>2014-02-10</td>\n",
       "      <td>26</td>\n",
       "      <td>11</td>\n",
       "      <td>4</td>\n",
       "      <td>20</td>\n",
       "      <td>10</td>\n",
       "      <td>3</td>\n",
       "      <td>5</td>\n",
       "      <td>2</td>\n",
       "      <td>2</td>\n",
       "      <td>0</td>\n",
       "      <td>4</td>\n",
       "      <td>6</td>\n",
       "      <td>0</td>\n",
       "      <td>0</td>\n",
       "      <td>0</td>\n",
       "      <td>0</td>\n",
       "      <td>0</td>\n",
       "      <td>0</td>\n",
       "      <td>3</td>\n",
       "      <td>11</td>\n",
       "      <td>0</td>\n",
       "    </tr>\n",
       "    <tr>\n",
       "      <th>4</th>\n",
       "      <td>5324</td>\n",
       "      <td>1981</td>\n",
       "      <td>PhD</td>\n",
       "      <td>Married</td>\n",
       "      <td>58293.0</td>\n",
       "      <td>1</td>\n",
       "      <td>0</td>\n",
       "      <td>2014-01-19</td>\n",
       "      <td>94</td>\n",
       "      <td>173</td>\n",
       "      <td>43</td>\n",
       "      <td>118</td>\n",
       "      <td>46</td>\n",
       "      <td>27</td>\n",
       "      <td>15</td>\n",
       "      <td>5</td>\n",
       "      <td>5</td>\n",
       "      <td>3</td>\n",
       "      <td>6</td>\n",
       "      <td>5</td>\n",
       "      <td>0</td>\n",
       "      <td>0</td>\n",
       "      <td>0</td>\n",
       "      <td>0</td>\n",
       "      <td>0</td>\n",
       "      <td>0</td>\n",
       "      <td>3</td>\n",
       "      <td>11</td>\n",
       "      <td>0</td>\n",
       "    </tr>\n",
       "  </tbody>\n",
       "</table>\n",
       "</div>"
      ],
      "text/plain": [
       "     ID  Year_Birth   Education Marital_Status   Income  Kidhome  Teenhome  \\\n",
       "0  5524        1957  Graduation         Single  58138.0        0         0   \n",
       "1  2174        1954  Graduation         Single  46344.0        1         1   \n",
       "2  4141        1965  Graduation       Together  71613.0        0         0   \n",
       "3  6182        1984  Graduation       Together  26646.0        1         0   \n",
       "4  5324        1981         PhD        Married  58293.0        1         0   \n",
       "\n",
       "  Dt_Customer  Recency  MntWines  MntFruits  MntMeatProducts  MntFishProducts  \\\n",
       "0  2012-09-04       58       635         88              546              172   \n",
       "1  2014-03-08       38        11          1                6                2   \n",
       "2  2013-08-21       26       426         49              127              111   \n",
       "3  2014-02-10       26        11          4               20               10   \n",
       "4  2014-01-19       94       173         43              118               46   \n",
       "\n",
       "   MntSweetProducts  MntGoldProds  NumDealsPurchases  NumWebPurchases  \\\n",
       "0                88            88                  3                8   \n",
       "1                 1             6                  2                1   \n",
       "2                21            42                  1                8   \n",
       "3                 3             5                  2                2   \n",
       "4                27            15                  5                5   \n",
       "\n",
       "   NumCatalogPurchases  NumStorePurchases  NumWebVisitsMonth  AcceptedCmp3  \\\n",
       "0                   10                  4                  7             0   \n",
       "1                    1                  2                  5             0   \n",
       "2                    2                 10                  4             0   \n",
       "3                    0                  4                  6             0   \n",
       "4                    3                  6                  5             0   \n",
       "\n",
       "   AcceptedCmp4  AcceptedCmp5  AcceptedCmp1  AcceptedCmp2  Complain  \\\n",
       "0             0             0             0             0         0   \n",
       "1             0             0             0             0         0   \n",
       "2             0             0             0             0         0   \n",
       "3             0             0             0             0         0   \n",
       "4             0             0             0             0         0   \n",
       "\n",
       "   Z_CostContact  Z_Revenue  Response  \n",
       "0              3         11         1  \n",
       "1              3         11         0  \n",
       "2              3         11         0  \n",
       "3              3         11         0  \n",
       "4              3         11         0  "
      ]
     },
     "execution_count": 15,
     "metadata": {},
     "output_type": "execute_result"
    }
   ],
   "source": [
    "pd.set_option('display.max_columns',None)\n",
    "df = pd.read_excel(\"Customer personality Analysis.xlsx\")\n",
    "df.head()"
   ]
  },
  {
   "cell_type": "markdown",
   "metadata": {},
   "source": [
    "# <p style=\"background-color:#29285D;font-family:verdana;color:white;font-size:100%;text-align:center;border-radius:10px 10px;letter-spacing:0.5px;padding: 10px\">INITIAL ANALYSIS</p> "
   ]
  },
  {
   "cell_type": "markdown",
   "metadata": {},
   "source": [
    "### **Understand The Data** 🧠\n"
   ]
  },
  {
   "cell_type": "code",
   "execution_count": 16,
   "metadata": {
    "execution": {
     "iopub.execute_input": "2022-07-31T07:21:17.352592Z",
     "iopub.status.busy": "2022-07-31T07:21:17.351189Z",
     "iopub.status.idle": "2022-07-31T07:21:17.367284Z",
     "shell.execute_reply": "2022-07-31T07:21:17.360615Z",
     "shell.execute_reply.started": "2022-07-31T07:21:17.352530Z"
    }
   },
   "outputs": [
    {
     "data": {
      "text/plain": [
       "(2240, 29)"
      ]
     },
     "execution_count": 16,
     "metadata": {},
     "output_type": "execute_result"
    }
   ],
   "source": [
    "df.shape"
   ]
  },
  {
   "cell_type": "code",
   "execution_count": 17,
   "metadata": {
    "execution": {
     "iopub.execute_input": "2022-07-31T07:21:17.372834Z",
     "iopub.status.busy": "2022-07-31T07:21:17.372241Z",
     "iopub.status.idle": "2022-07-31T07:21:17.408688Z",
     "shell.execute_reply": "2022-07-31T07:21:17.407528Z",
     "shell.execute_reply.started": "2022-07-31T07:21:17.372780Z"
    }
   },
   "outputs": [
    {
     "data": {
      "text/html": [
       "<div>\n",
       "<style scoped>\n",
       "    .dataframe tbody tr th:only-of-type {\n",
       "        vertical-align: middle;\n",
       "    }\n",
       "\n",
       "    .dataframe tbody tr th {\n",
       "        vertical-align: top;\n",
       "    }\n",
       "\n",
       "    .dataframe thead th {\n",
       "        text-align: right;\n",
       "    }\n",
       "</style>\n",
       "<table border=\"1\" class=\"dataframe\">\n",
       "  <thead>\n",
       "    <tr style=\"text-align: right;\">\n",
       "      <th></th>\n",
       "      <th>ID</th>\n",
       "      <th>Year_Birth</th>\n",
       "      <th>Education</th>\n",
       "      <th>Marital_Status</th>\n",
       "      <th>Income</th>\n",
       "      <th>Kidhome</th>\n",
       "      <th>Teenhome</th>\n",
       "      <th>Dt_Customer</th>\n",
       "      <th>Recency</th>\n",
       "      <th>MntWines</th>\n",
       "      <th>MntFruits</th>\n",
       "      <th>MntMeatProducts</th>\n",
       "      <th>MntFishProducts</th>\n",
       "      <th>MntSweetProducts</th>\n",
       "      <th>MntGoldProds</th>\n",
       "      <th>NumDealsPurchases</th>\n",
       "      <th>NumWebPurchases</th>\n",
       "      <th>NumCatalogPurchases</th>\n",
       "      <th>NumStorePurchases</th>\n",
       "      <th>NumWebVisitsMonth</th>\n",
       "      <th>AcceptedCmp3</th>\n",
       "      <th>AcceptedCmp4</th>\n",
       "      <th>AcceptedCmp5</th>\n",
       "      <th>AcceptedCmp1</th>\n",
       "      <th>AcceptedCmp2</th>\n",
       "      <th>Complain</th>\n",
       "      <th>Z_CostContact</th>\n",
       "      <th>Z_Revenue</th>\n",
       "      <th>Response</th>\n",
       "    </tr>\n",
       "  </thead>\n",
       "  <tbody>\n",
       "    <tr>\n",
       "      <th>1530</th>\n",
       "      <td>6050</td>\n",
       "      <td>1975</td>\n",
       "      <td>2n Cycle</td>\n",
       "      <td>Married</td>\n",
       "      <td>57036.0</td>\n",
       "      <td>0</td>\n",
       "      <td>1</td>\n",
       "      <td>2012-12-11</td>\n",
       "      <td>33</td>\n",
       "      <td>1171</td>\n",
       "      <td>43</td>\n",
       "      <td>219</td>\n",
       "      <td>19</td>\n",
       "      <td>14</td>\n",
       "      <td>47</td>\n",
       "      <td>4</td>\n",
       "      <td>6</td>\n",
       "      <td>3</td>\n",
       "      <td>13</td>\n",
       "      <td>9</td>\n",
       "      <td>1</td>\n",
       "      <td>0</td>\n",
       "      <td>0</td>\n",
       "      <td>0</td>\n",
       "      <td>0</td>\n",
       "      <td>0</td>\n",
       "      <td>3</td>\n",
       "      <td>11</td>\n",
       "      <td>0</td>\n",
       "    </tr>\n",
       "    <tr>\n",
       "      <th>1397</th>\n",
       "      <td>2589</td>\n",
       "      <td>1972</td>\n",
       "      <td>Graduation</td>\n",
       "      <td>Divorced</td>\n",
       "      <td>26759.0</td>\n",
       "      <td>1</td>\n",
       "      <td>0</td>\n",
       "      <td>2014-02-07</td>\n",
       "      <td>65</td>\n",
       "      <td>25</td>\n",
       "      <td>3</td>\n",
       "      <td>16</td>\n",
       "      <td>8</td>\n",
       "      <td>5</td>\n",
       "      <td>2</td>\n",
       "      <td>2</td>\n",
       "      <td>2</td>\n",
       "      <td>1</td>\n",
       "      <td>3</td>\n",
       "      <td>6</td>\n",
       "      <td>0</td>\n",
       "      <td>0</td>\n",
       "      <td>0</td>\n",
       "      <td>0</td>\n",
       "      <td>0</td>\n",
       "      <td>0</td>\n",
       "      <td>3</td>\n",
       "      <td>11</td>\n",
       "      <td>0</td>\n",
       "    </tr>\n",
       "    <tr>\n",
       "      <th>394</th>\n",
       "      <td>7683</td>\n",
       "      <td>1968</td>\n",
       "      <td>Master</td>\n",
       "      <td>Married</td>\n",
       "      <td>70777.0</td>\n",
       "      <td>0</td>\n",
       "      <td>1</td>\n",
       "      <td>2014-02-25</td>\n",
       "      <td>80</td>\n",
       "      <td>554</td>\n",
       "      <td>35</td>\n",
       "      <td>113</td>\n",
       "      <td>0</td>\n",
       "      <td>7</td>\n",
       "      <td>78</td>\n",
       "      <td>3</td>\n",
       "      <td>5</td>\n",
       "      <td>3</td>\n",
       "      <td>12</td>\n",
       "      <td>3</td>\n",
       "      <td>0</td>\n",
       "      <td>0</td>\n",
       "      <td>0</td>\n",
       "      <td>0</td>\n",
       "      <td>0</td>\n",
       "      <td>0</td>\n",
       "      <td>3</td>\n",
       "      <td>11</td>\n",
       "      <td>0</td>\n",
       "    </tr>\n",
       "    <tr>\n",
       "      <th>1503</th>\n",
       "      <td>3594</td>\n",
       "      <td>1973</td>\n",
       "      <td>Master</td>\n",
       "      <td>Married</td>\n",
       "      <td>54108.0</td>\n",
       "      <td>1</td>\n",
       "      <td>1</td>\n",
       "      <td>2012-11-05</td>\n",
       "      <td>74</td>\n",
       "      <td>539</td>\n",
       "      <td>6</td>\n",
       "      <td>91</td>\n",
       "      <td>8</td>\n",
       "      <td>6</td>\n",
       "      <td>97</td>\n",
       "      <td>13</td>\n",
       "      <td>8</td>\n",
       "      <td>2</td>\n",
       "      <td>9</td>\n",
       "      <td>8</td>\n",
       "      <td>0</td>\n",
       "      <td>0</td>\n",
       "      <td>0</td>\n",
       "      <td>0</td>\n",
       "      <td>0</td>\n",
       "      <td>0</td>\n",
       "      <td>3</td>\n",
       "      <td>11</td>\n",
       "      <td>0</td>\n",
       "    </tr>\n",
       "    <tr>\n",
       "      <th>1933</th>\n",
       "      <td>7007</td>\n",
       "      <td>1968</td>\n",
       "      <td>Master</td>\n",
       "      <td>Married</td>\n",
       "      <td>29543.0</td>\n",
       "      <td>2</td>\n",
       "      <td>0</td>\n",
       "      <td>2014-04-01</td>\n",
       "      <td>47</td>\n",
       "      <td>17</td>\n",
       "      <td>3</td>\n",
       "      <td>18</td>\n",
       "      <td>3</td>\n",
       "      <td>4</td>\n",
       "      <td>18</td>\n",
       "      <td>2</td>\n",
       "      <td>3</td>\n",
       "      <td>1</td>\n",
       "      <td>2</td>\n",
       "      <td>7</td>\n",
       "      <td>0</td>\n",
       "      <td>0</td>\n",
       "      <td>0</td>\n",
       "      <td>0</td>\n",
       "      <td>0</td>\n",
       "      <td>0</td>\n",
       "      <td>3</td>\n",
       "      <td>11</td>\n",
       "      <td>0</td>\n",
       "    </tr>\n",
       "  </tbody>\n",
       "</table>\n",
       "</div>"
      ],
      "text/plain": [
       "        ID  Year_Birth   Education Marital_Status   Income  Kidhome  Teenhome  \\\n",
       "1530  6050        1975    2n Cycle        Married  57036.0        0         1   \n",
       "1397  2589        1972  Graduation       Divorced  26759.0        1         0   \n",
       "394   7683        1968      Master        Married  70777.0        0         1   \n",
       "1503  3594        1973      Master        Married  54108.0        1         1   \n",
       "1933  7007        1968      Master        Married  29543.0        2         0   \n",
       "\n",
       "     Dt_Customer  Recency  MntWines  MntFruits  MntMeatProducts  \\\n",
       "1530  2012-12-11       33      1171         43              219   \n",
       "1397  2014-02-07       65        25          3               16   \n",
       "394   2014-02-25       80       554         35              113   \n",
       "1503  2012-11-05       74       539          6               91   \n",
       "1933  2014-04-01       47        17          3               18   \n",
       "\n",
       "      MntFishProducts  MntSweetProducts  MntGoldProds  NumDealsPurchases  \\\n",
       "1530               19                14            47                  4   \n",
       "1397                8                 5             2                  2   \n",
       "394                 0                 7            78                  3   \n",
       "1503                8                 6            97                 13   \n",
       "1933                3                 4            18                  2   \n",
       "\n",
       "      NumWebPurchases  NumCatalogPurchases  NumStorePurchases  \\\n",
       "1530                6                    3                 13   \n",
       "1397                2                    1                  3   \n",
       "394                 5                    3                 12   \n",
       "1503                8                    2                  9   \n",
       "1933                3                    1                  2   \n",
       "\n",
       "      NumWebVisitsMonth  AcceptedCmp3  AcceptedCmp4  AcceptedCmp5  \\\n",
       "1530                  9             1             0             0   \n",
       "1397                  6             0             0             0   \n",
       "394                   3             0             0             0   \n",
       "1503                  8             0             0             0   \n",
       "1933                  7             0             0             0   \n",
       "\n",
       "      AcceptedCmp1  AcceptedCmp2  Complain  Z_CostContact  Z_Revenue  Response  \n",
       "1530             0             0         0              3         11         0  \n",
       "1397             0             0         0              3         11         0  \n",
       "394              0             0         0              3         11         0  \n",
       "1503             0             0         0              3         11         0  \n",
       "1933             0             0         0              3         11         0  "
      ]
     },
     "execution_count": 17,
     "metadata": {},
     "output_type": "execute_result"
    }
   ],
   "source": [
    "df.sample(5) # sample selects random rows from your data "
   ]
  },
  {
   "cell_type": "code",
   "execution_count": 18,
   "metadata": {
    "execution": {
     "iopub.execute_input": "2022-07-31T07:21:17.411362Z",
     "iopub.status.busy": "2022-07-31T07:21:17.410578Z",
     "iopub.status.idle": "2022-07-31T07:21:17.439354Z",
     "shell.execute_reply": "2022-07-31T07:21:17.438341Z",
     "shell.execute_reply.started": "2022-07-31T07:21:17.411315Z"
    }
   },
   "outputs": [
    {
     "name": "stdout",
     "output_type": "stream",
     "text": [
      "<class 'pandas.core.frame.DataFrame'>\n",
      "RangeIndex: 2240 entries, 0 to 2239\n",
      "Data columns (total 29 columns):\n",
      " #   Column               Non-Null Count  Dtype         \n",
      "---  ------               --------------  -----         \n",
      " 0   ID                   2240 non-null   int64         \n",
      " 1   Year_Birth           2240 non-null   int64         \n",
      " 2   Education            2240 non-null   object        \n",
      " 3   Marital_Status       2240 non-null   object        \n",
      " 4   Income               2216 non-null   float64       \n",
      " 5   Kidhome              2240 non-null   int64         \n",
      " 6   Teenhome             2240 non-null   int64         \n",
      " 7   Dt_Customer          2240 non-null   datetime64[ns]\n",
      " 8   Recency              2240 non-null   int64         \n",
      " 9   MntWines             2240 non-null   int64         \n",
      " 10  MntFruits            2240 non-null   int64         \n",
      " 11  MntMeatProducts      2240 non-null   int64         \n",
      " 12  MntFishProducts      2240 non-null   int64         \n",
      " 13  MntSweetProducts     2240 non-null   int64         \n",
      " 14  MntGoldProds         2240 non-null   int64         \n",
      " 15  NumDealsPurchases    2240 non-null   int64         \n",
      " 16  NumWebPurchases      2240 non-null   int64         \n",
      " 17  NumCatalogPurchases  2240 non-null   int64         \n",
      " 18  NumStorePurchases    2240 non-null   int64         \n",
      " 19  NumWebVisitsMonth    2240 non-null   int64         \n",
      " 20  AcceptedCmp3         2240 non-null   int64         \n",
      " 21  AcceptedCmp4         2240 non-null   int64         \n",
      " 22  AcceptedCmp5         2240 non-null   int64         \n",
      " 23  AcceptedCmp1         2240 non-null   int64         \n",
      " 24  AcceptedCmp2         2240 non-null   int64         \n",
      " 25  Complain             2240 non-null   int64         \n",
      " 26  Z_CostContact        2240 non-null   int64         \n",
      " 27  Z_Revenue            2240 non-null   int64         \n",
      " 28  Response             2240 non-null   int64         \n",
      "dtypes: datetime64[ns](1), float64(1), int64(25), object(2)\n",
      "memory usage: 507.6+ KB\n"
     ]
    }
   ],
   "source": [
    "df.info()"
   ]
  },
  {
   "cell_type": "code",
   "execution_count": 19,
   "metadata": {
    "execution": {
     "iopub.execute_input": "2022-07-31T07:21:17.440977Z",
     "iopub.status.busy": "2022-07-31T07:21:17.440659Z",
     "iopub.status.idle": "2022-07-31T07:21:17.453380Z",
     "shell.execute_reply": "2022-07-31T07:21:17.452010Z",
     "shell.execute_reply.started": "2022-07-31T07:21:17.440949Z"
    }
   },
   "outputs": [
    {
     "data": {
      "text/plain": [
       "ID                      0\n",
       "Year_Birth              0\n",
       "Education               0\n",
       "Marital_Status          0\n",
       "Income                 24\n",
       "Kidhome                 0\n",
       "Teenhome                0\n",
       "Dt_Customer             0\n",
       "Recency                 0\n",
       "MntWines                0\n",
       "MntFruits               0\n",
       "MntMeatProducts         0\n",
       "MntFishProducts         0\n",
       "MntSweetProducts        0\n",
       "MntGoldProds            0\n",
       "NumDealsPurchases       0\n",
       "NumWebPurchases         0\n",
       "NumCatalogPurchases     0\n",
       "NumStorePurchases       0\n",
       "NumWebVisitsMonth       0\n",
       "AcceptedCmp3            0\n",
       "AcceptedCmp4            0\n",
       "AcceptedCmp5            0\n",
       "AcceptedCmp1            0\n",
       "AcceptedCmp2            0\n",
       "Complain                0\n",
       "Z_CostContact           0\n",
       "Z_Revenue               0\n",
       "Response                0\n",
       "dtype: int64"
      ]
     },
     "execution_count": 19,
     "metadata": {},
     "output_type": "execute_result"
    }
   ],
   "source": [
    "df.isnull().sum()"
   ]
  },
  {
   "cell_type": "code",
   "execution_count": 20,
   "metadata": {
    "execution": {
     "iopub.execute_input": "2022-07-31T07:21:17.456872Z",
     "iopub.status.busy": "2022-07-31T07:21:17.455360Z",
     "iopub.status.idle": "2022-07-31T07:21:17.550175Z",
     "shell.execute_reply": "2022-07-31T07:21:17.548977Z",
     "shell.execute_reply.started": "2022-07-31T07:21:17.456831Z"
    }
   },
   "outputs": [
    {
     "data": {
      "text/html": [
       "<div>\n",
       "<style scoped>\n",
       "    .dataframe tbody tr th:only-of-type {\n",
       "        vertical-align: middle;\n",
       "    }\n",
       "\n",
       "    .dataframe tbody tr th {\n",
       "        vertical-align: top;\n",
       "    }\n",
       "\n",
       "    .dataframe thead th {\n",
       "        text-align: right;\n",
       "    }\n",
       "</style>\n",
       "<table border=\"1\" class=\"dataframe\">\n",
       "  <thead>\n",
       "    <tr style=\"text-align: right;\">\n",
       "      <th></th>\n",
       "      <th>ID</th>\n",
       "      <th>Year_Birth</th>\n",
       "      <th>Income</th>\n",
       "      <th>Kidhome</th>\n",
       "      <th>Teenhome</th>\n",
       "      <th>Recency</th>\n",
       "      <th>MntWines</th>\n",
       "      <th>MntFruits</th>\n",
       "      <th>MntMeatProducts</th>\n",
       "      <th>MntFishProducts</th>\n",
       "      <th>MntSweetProducts</th>\n",
       "      <th>MntGoldProds</th>\n",
       "      <th>NumDealsPurchases</th>\n",
       "      <th>NumWebPurchases</th>\n",
       "      <th>NumCatalogPurchases</th>\n",
       "      <th>NumStorePurchases</th>\n",
       "      <th>NumWebVisitsMonth</th>\n",
       "      <th>AcceptedCmp3</th>\n",
       "      <th>AcceptedCmp4</th>\n",
       "      <th>AcceptedCmp5</th>\n",
       "      <th>AcceptedCmp1</th>\n",
       "      <th>AcceptedCmp2</th>\n",
       "      <th>Complain</th>\n",
       "      <th>Z_CostContact</th>\n",
       "      <th>Z_Revenue</th>\n",
       "      <th>Response</th>\n",
       "    </tr>\n",
       "  </thead>\n",
       "  <tbody>\n",
       "    <tr>\n",
       "      <th>count</th>\n",
       "      <td>2240.000000</td>\n",
       "      <td>2240.000000</td>\n",
       "      <td>2216.000000</td>\n",
       "      <td>2240.000000</td>\n",
       "      <td>2240.000000</td>\n",
       "      <td>2240.000000</td>\n",
       "      <td>2240.000000</td>\n",
       "      <td>2240.000000</td>\n",
       "      <td>2240.000000</td>\n",
       "      <td>2240.000000</td>\n",
       "      <td>2240.000000</td>\n",
       "      <td>2240.000000</td>\n",
       "      <td>2240.000000</td>\n",
       "      <td>2240.000000</td>\n",
       "      <td>2240.000000</td>\n",
       "      <td>2240.000000</td>\n",
       "      <td>2240.000000</td>\n",
       "      <td>2240.000000</td>\n",
       "      <td>2240.000000</td>\n",
       "      <td>2240.000000</td>\n",
       "      <td>2240.000000</td>\n",
       "      <td>2240.000000</td>\n",
       "      <td>2240.000000</td>\n",
       "      <td>2240.0</td>\n",
       "      <td>2240.0</td>\n",
       "      <td>2240.000000</td>\n",
       "    </tr>\n",
       "    <tr>\n",
       "      <th>mean</th>\n",
       "      <td>5592.159821</td>\n",
       "      <td>1968.805804</td>\n",
       "      <td>52247.251354</td>\n",
       "      <td>0.444196</td>\n",
       "      <td>0.506250</td>\n",
       "      <td>49.109375</td>\n",
       "      <td>303.935714</td>\n",
       "      <td>26.302232</td>\n",
       "      <td>166.950000</td>\n",
       "      <td>37.525446</td>\n",
       "      <td>27.062946</td>\n",
       "      <td>44.021875</td>\n",
       "      <td>2.325000</td>\n",
       "      <td>4.084821</td>\n",
       "      <td>2.662054</td>\n",
       "      <td>5.790179</td>\n",
       "      <td>5.316518</td>\n",
       "      <td>0.072768</td>\n",
       "      <td>0.074554</td>\n",
       "      <td>0.072768</td>\n",
       "      <td>0.064286</td>\n",
       "      <td>0.013393</td>\n",
       "      <td>0.009375</td>\n",
       "      <td>3.0</td>\n",
       "      <td>11.0</td>\n",
       "      <td>0.149107</td>\n",
       "    </tr>\n",
       "    <tr>\n",
       "      <th>std</th>\n",
       "      <td>3246.662198</td>\n",
       "      <td>11.984069</td>\n",
       "      <td>25173.076661</td>\n",
       "      <td>0.538398</td>\n",
       "      <td>0.544538</td>\n",
       "      <td>28.962453</td>\n",
       "      <td>336.597393</td>\n",
       "      <td>39.773434</td>\n",
       "      <td>225.715373</td>\n",
       "      <td>54.628979</td>\n",
       "      <td>41.280498</td>\n",
       "      <td>52.167439</td>\n",
       "      <td>1.932238</td>\n",
       "      <td>2.778714</td>\n",
       "      <td>2.923101</td>\n",
       "      <td>3.250958</td>\n",
       "      <td>2.426645</td>\n",
       "      <td>0.259813</td>\n",
       "      <td>0.262728</td>\n",
       "      <td>0.259813</td>\n",
       "      <td>0.245316</td>\n",
       "      <td>0.114976</td>\n",
       "      <td>0.096391</td>\n",
       "      <td>0.0</td>\n",
       "      <td>0.0</td>\n",
       "      <td>0.356274</td>\n",
       "    </tr>\n",
       "    <tr>\n",
       "      <th>min</th>\n",
       "      <td>0.000000</td>\n",
       "      <td>1893.000000</td>\n",
       "      <td>1730.000000</td>\n",
       "      <td>0.000000</td>\n",
       "      <td>0.000000</td>\n",
       "      <td>0.000000</td>\n",
       "      <td>0.000000</td>\n",
       "      <td>0.000000</td>\n",
       "      <td>0.000000</td>\n",
       "      <td>0.000000</td>\n",
       "      <td>0.000000</td>\n",
       "      <td>0.000000</td>\n",
       "      <td>0.000000</td>\n",
       "      <td>0.000000</td>\n",
       "      <td>0.000000</td>\n",
       "      <td>0.000000</td>\n",
       "      <td>0.000000</td>\n",
       "      <td>0.000000</td>\n",
       "      <td>0.000000</td>\n",
       "      <td>0.000000</td>\n",
       "      <td>0.000000</td>\n",
       "      <td>0.000000</td>\n",
       "      <td>0.000000</td>\n",
       "      <td>3.0</td>\n",
       "      <td>11.0</td>\n",
       "      <td>0.000000</td>\n",
       "    </tr>\n",
       "    <tr>\n",
       "      <th>25%</th>\n",
       "      <td>2828.250000</td>\n",
       "      <td>1959.000000</td>\n",
       "      <td>35303.000000</td>\n",
       "      <td>0.000000</td>\n",
       "      <td>0.000000</td>\n",
       "      <td>24.000000</td>\n",
       "      <td>23.750000</td>\n",
       "      <td>1.000000</td>\n",
       "      <td>16.000000</td>\n",
       "      <td>3.000000</td>\n",
       "      <td>1.000000</td>\n",
       "      <td>9.000000</td>\n",
       "      <td>1.000000</td>\n",
       "      <td>2.000000</td>\n",
       "      <td>0.000000</td>\n",
       "      <td>3.000000</td>\n",
       "      <td>3.000000</td>\n",
       "      <td>0.000000</td>\n",
       "      <td>0.000000</td>\n",
       "      <td>0.000000</td>\n",
       "      <td>0.000000</td>\n",
       "      <td>0.000000</td>\n",
       "      <td>0.000000</td>\n",
       "      <td>3.0</td>\n",
       "      <td>11.0</td>\n",
       "      <td>0.000000</td>\n",
       "    </tr>\n",
       "    <tr>\n",
       "      <th>50%</th>\n",
       "      <td>5458.500000</td>\n",
       "      <td>1970.000000</td>\n",
       "      <td>51381.500000</td>\n",
       "      <td>0.000000</td>\n",
       "      <td>0.000000</td>\n",
       "      <td>49.000000</td>\n",
       "      <td>173.500000</td>\n",
       "      <td>8.000000</td>\n",
       "      <td>67.000000</td>\n",
       "      <td>12.000000</td>\n",
       "      <td>8.000000</td>\n",
       "      <td>24.000000</td>\n",
       "      <td>2.000000</td>\n",
       "      <td>4.000000</td>\n",
       "      <td>2.000000</td>\n",
       "      <td>5.000000</td>\n",
       "      <td>6.000000</td>\n",
       "      <td>0.000000</td>\n",
       "      <td>0.000000</td>\n",
       "      <td>0.000000</td>\n",
       "      <td>0.000000</td>\n",
       "      <td>0.000000</td>\n",
       "      <td>0.000000</td>\n",
       "      <td>3.0</td>\n",
       "      <td>11.0</td>\n",
       "      <td>0.000000</td>\n",
       "    </tr>\n",
       "    <tr>\n",
       "      <th>75%</th>\n",
       "      <td>8427.750000</td>\n",
       "      <td>1977.000000</td>\n",
       "      <td>68522.000000</td>\n",
       "      <td>1.000000</td>\n",
       "      <td>1.000000</td>\n",
       "      <td>74.000000</td>\n",
       "      <td>504.250000</td>\n",
       "      <td>33.000000</td>\n",
       "      <td>232.000000</td>\n",
       "      <td>50.000000</td>\n",
       "      <td>33.000000</td>\n",
       "      <td>56.000000</td>\n",
       "      <td>3.000000</td>\n",
       "      <td>6.000000</td>\n",
       "      <td>4.000000</td>\n",
       "      <td>8.000000</td>\n",
       "      <td>7.000000</td>\n",
       "      <td>0.000000</td>\n",
       "      <td>0.000000</td>\n",
       "      <td>0.000000</td>\n",
       "      <td>0.000000</td>\n",
       "      <td>0.000000</td>\n",
       "      <td>0.000000</td>\n",
       "      <td>3.0</td>\n",
       "      <td>11.0</td>\n",
       "      <td>0.000000</td>\n",
       "    </tr>\n",
       "    <tr>\n",
       "      <th>max</th>\n",
       "      <td>11191.000000</td>\n",
       "      <td>1996.000000</td>\n",
       "      <td>666666.000000</td>\n",
       "      <td>2.000000</td>\n",
       "      <td>2.000000</td>\n",
       "      <td>99.000000</td>\n",
       "      <td>1493.000000</td>\n",
       "      <td>199.000000</td>\n",
       "      <td>1725.000000</td>\n",
       "      <td>259.000000</td>\n",
       "      <td>263.000000</td>\n",
       "      <td>362.000000</td>\n",
       "      <td>15.000000</td>\n",
       "      <td>27.000000</td>\n",
       "      <td>28.000000</td>\n",
       "      <td>13.000000</td>\n",
       "      <td>20.000000</td>\n",
       "      <td>1.000000</td>\n",
       "      <td>1.000000</td>\n",
       "      <td>1.000000</td>\n",
       "      <td>1.000000</td>\n",
       "      <td>1.000000</td>\n",
       "      <td>1.000000</td>\n",
       "      <td>3.0</td>\n",
       "      <td>11.0</td>\n",
       "      <td>1.000000</td>\n",
       "    </tr>\n",
       "  </tbody>\n",
       "</table>\n",
       "</div>"
      ],
      "text/plain": [
       "                 ID   Year_Birth         Income      Kidhome     Teenhome  \\\n",
       "count   2240.000000  2240.000000    2216.000000  2240.000000  2240.000000   \n",
       "mean    5592.159821  1968.805804   52247.251354     0.444196     0.506250   \n",
       "std     3246.662198    11.984069   25173.076661     0.538398     0.544538   \n",
       "min        0.000000  1893.000000    1730.000000     0.000000     0.000000   \n",
       "25%     2828.250000  1959.000000   35303.000000     0.000000     0.000000   \n",
       "50%     5458.500000  1970.000000   51381.500000     0.000000     0.000000   \n",
       "75%     8427.750000  1977.000000   68522.000000     1.000000     1.000000   \n",
       "max    11191.000000  1996.000000  666666.000000     2.000000     2.000000   \n",
       "\n",
       "           Recency     MntWines    MntFruits  MntMeatProducts  \\\n",
       "count  2240.000000  2240.000000  2240.000000      2240.000000   \n",
       "mean     49.109375   303.935714    26.302232       166.950000   \n",
       "std      28.962453   336.597393    39.773434       225.715373   \n",
       "min       0.000000     0.000000     0.000000         0.000000   \n",
       "25%      24.000000    23.750000     1.000000        16.000000   \n",
       "50%      49.000000   173.500000     8.000000        67.000000   \n",
       "75%      74.000000   504.250000    33.000000       232.000000   \n",
       "max      99.000000  1493.000000   199.000000      1725.000000   \n",
       "\n",
       "       MntFishProducts  MntSweetProducts  MntGoldProds  NumDealsPurchases  \\\n",
       "count      2240.000000       2240.000000   2240.000000        2240.000000   \n",
       "mean         37.525446         27.062946     44.021875           2.325000   \n",
       "std          54.628979         41.280498     52.167439           1.932238   \n",
       "min           0.000000          0.000000      0.000000           0.000000   \n",
       "25%           3.000000          1.000000      9.000000           1.000000   \n",
       "50%          12.000000          8.000000     24.000000           2.000000   \n",
       "75%          50.000000         33.000000     56.000000           3.000000   \n",
       "max         259.000000        263.000000    362.000000          15.000000   \n",
       "\n",
       "       NumWebPurchases  NumCatalogPurchases  NumStorePurchases  \\\n",
       "count      2240.000000          2240.000000        2240.000000   \n",
       "mean          4.084821             2.662054           5.790179   \n",
       "std           2.778714             2.923101           3.250958   \n",
       "min           0.000000             0.000000           0.000000   \n",
       "25%           2.000000             0.000000           3.000000   \n",
       "50%           4.000000             2.000000           5.000000   \n",
       "75%           6.000000             4.000000           8.000000   \n",
       "max          27.000000            28.000000          13.000000   \n",
       "\n",
       "       NumWebVisitsMonth  AcceptedCmp3  AcceptedCmp4  AcceptedCmp5  \\\n",
       "count        2240.000000   2240.000000   2240.000000   2240.000000   \n",
       "mean            5.316518      0.072768      0.074554      0.072768   \n",
       "std             2.426645      0.259813      0.262728      0.259813   \n",
       "min             0.000000      0.000000      0.000000      0.000000   \n",
       "25%             3.000000      0.000000      0.000000      0.000000   \n",
       "50%             6.000000      0.000000      0.000000      0.000000   \n",
       "75%             7.000000      0.000000      0.000000      0.000000   \n",
       "max            20.000000      1.000000      1.000000      1.000000   \n",
       "\n",
       "       AcceptedCmp1  AcceptedCmp2     Complain  Z_CostContact  Z_Revenue  \\\n",
       "count   2240.000000   2240.000000  2240.000000         2240.0     2240.0   \n",
       "mean       0.064286      0.013393     0.009375            3.0       11.0   \n",
       "std        0.245316      0.114976     0.096391            0.0        0.0   \n",
       "min        0.000000      0.000000     0.000000            3.0       11.0   \n",
       "25%        0.000000      0.000000     0.000000            3.0       11.0   \n",
       "50%        0.000000      0.000000     0.000000            3.0       11.0   \n",
       "75%        0.000000      0.000000     0.000000            3.0       11.0   \n",
       "max        1.000000      1.000000     1.000000            3.0       11.0   \n",
       "\n",
       "          Response  \n",
       "count  2240.000000  \n",
       "mean      0.149107  \n",
       "std       0.356274  \n",
       "min       0.000000  \n",
       "25%       0.000000  \n",
       "50%       0.000000  \n",
       "75%       0.000000  \n",
       "max       1.000000  "
      ]
     },
     "execution_count": 20,
     "metadata": {},
     "output_type": "execute_result"
    }
   ],
   "source": [
    "df.describe()"
   ]
  },
  {
   "cell_type": "code",
   "execution_count": 21,
   "metadata": {
    "execution": {
     "iopub.execute_input": "2022-07-31T07:21:17.552420Z",
     "iopub.status.busy": "2022-07-31T07:21:17.551768Z",
     "iopub.status.idle": "2022-07-31T07:21:17.570381Z",
     "shell.execute_reply": "2022-07-31T07:21:17.569234Z",
     "shell.execute_reply.started": "2022-07-31T07:21:17.552372Z"
    }
   },
   "outputs": [
    {
     "data": {
      "text/plain": [
       "0"
      ]
     },
     "execution_count": 21,
     "metadata": {},
     "output_type": "execute_result"
    }
   ],
   "source": [
    "df.duplicated().sum()"
   ]
  },
  {
   "cell_type": "code",
   "execution_count": 22,
   "metadata": {},
   "outputs": [
    {
     "data": {
      "image/png": "[encoded data removed]",
      "text/plain": [
       "<Figure size 300x500 with 1 Axes>"
      ]
     },
     "metadata": {},
     "output_type": "display_data"
    }
   ],
   "source": [
    "#showing outliers \"age\"\n",
    "plt.figure(figsize=(3,5))\n",
    "sns.boxplot(y=df.Income, palette=palette);\n",
    "plt.ylabel('Age', fontsize=10, labelpad=10);"
   ]
  },
  {
   "cell_type": "markdown",
   "metadata": {},
   "source": [
    "**INSIGHT**\n",
    "- There are some customers over 100 years old. This is unlikely to happen so this can be said to be an outlier.\n",
    "- There are some customers who earn more than 120,000 and some of them even more than 600,000. They are clear outliers in the data."
   ]
  },
  {
   "cell_type": "markdown",
   "metadata": {},
   "source": [
    "<div style=\"color:white;\n",
    "           display:fill;\n",
    "           background-color:#29285D;\n",
    "           padding: 10px;\n",
    "           font-family:Verdana;\n",
    "           letter-spacing:0.5px\">\n",
    "    <h3 style=\"color:white;padding-left:20px\"><b>Observations 👀</b></h3>\n",
    "       <p style=\"color:white;font-size:110%;padding-left:50px\">\n",
    "           1. Data contains 2240 rows and 29 columns <br>\n",
    "           2. It has 1 float, 3 object and 25 int columns <br>\n",
    "           3. Datetime columns have int datatype, need to fix that <br>\n",
    "           4. Many categorical columns are alredy in int format, like AcceptedCmp1, Response <br>\n",
    "           5. There are 24 missing values in Income column <br>\n",
    "           6. There are no duplicate values within data\n",
    "        </p>\n",
    "    </div>"
   ]
  },
  {
   "cell_type": "markdown",
   "metadata": {},
   "source": [
    "# <p style=\"background-color:#29285D;font-family:verdana;color:white;font-size:100%;text-align:center;border-radius:10px 10px;letter-spacing:0.5px;padding: 10px\">DATA CLEANING & FEATURE CONSTRUCTION</p> "
   ]
  },
  {
   "cell_type": "code",
   "execution_count": 23,
   "metadata": {
    "execution": {
     "iopub.execute_input": "2022-07-31T07:21:17.572238Z",
     "iopub.status.busy": "2022-07-31T07:21:17.571861Z",
     "iopub.status.idle": "2022-07-31T07:21:17.578831Z",
     "shell.execute_reply": "2022-07-31T07:21:17.577484Z",
     "shell.execute_reply.started": "2022-07-31T07:21:17.572203Z"
    }
   },
   "outputs": [],
   "source": [
    "df.rename(columns = {'MntGoldProds':'MntGoldProducts'}, inplace = True)"
   ]
  },
  {
   "cell_type": "code",
   "execution_count": 24,
   "metadata": {
    "execution": {
     "iopub.execute_input": "2022-07-31T07:21:17.584078Z",
     "iopub.status.busy": "2022-07-31T07:21:17.583555Z",
     "iopub.status.idle": "2022-07-31T07:21:17.601319Z",
     "shell.execute_reply": "2022-07-31T07:21:17.600103Z",
     "shell.execute_reply.started": "2022-07-31T07:21:17.584038Z"
    }
   },
   "outputs": [],
   "source": [
    "# converting columns to DateTime format\n",
    "df['Year_Birth'] = pd.to_datetime(df['Year_Birth'], format ='%Y')\n",
    "df['Dt_Customer'] = pd.to_datetime(df['Dt_Customer'])"
   ]
  },
  {
   "cell_type": "code",
   "execution_count": 25,
   "metadata": {},
   "outputs": [
    {
     "data": {
      "text/html": [
       "<div>\n",
       "<style scoped>\n",
       "    .dataframe tbody tr th:only-of-type {\n",
       "        vertical-align: middle;\n",
       "    }\n",
       "\n",
       "    .dataframe tbody tr th {\n",
       "        vertical-align: top;\n",
       "    }\n",
       "\n",
       "    .dataframe thead th {\n",
       "        text-align: right;\n",
       "    }\n",
       "</style>\n",
       "<table border=\"1\" class=\"dataframe\">\n",
       "  <thead>\n",
       "    <tr style=\"text-align: right;\">\n",
       "      <th></th>\n",
       "      <th>ID</th>\n",
       "      <th>Year_Birth</th>\n",
       "      <th>Education</th>\n",
       "      <th>Marital_Status</th>\n",
       "      <th>Income</th>\n",
       "      <th>Kidhome</th>\n",
       "      <th>Teenhome</th>\n",
       "      <th>Dt_Customer</th>\n",
       "      <th>Recency</th>\n",
       "      <th>MntWines</th>\n",
       "      <th>MntFruits</th>\n",
       "      <th>MntMeatProducts</th>\n",
       "      <th>MntFishProducts</th>\n",
       "      <th>MntSweetProducts</th>\n",
       "      <th>MntGoldProducts</th>\n",
       "      <th>NumDealsPurchases</th>\n",
       "      <th>NumWebPurchases</th>\n",
       "      <th>NumCatalogPurchases</th>\n",
       "      <th>NumStorePurchases</th>\n",
       "      <th>NumWebVisitsMonth</th>\n",
       "      <th>AcceptedCmp3</th>\n",
       "      <th>AcceptedCmp4</th>\n",
       "      <th>AcceptedCmp5</th>\n",
       "      <th>AcceptedCmp1</th>\n",
       "      <th>AcceptedCmp2</th>\n",
       "      <th>Complain</th>\n",
       "      <th>Z_CostContact</th>\n",
       "      <th>Z_Revenue</th>\n",
       "      <th>Response</th>\n",
       "    </tr>\n",
       "  </thead>\n",
       "  <tbody>\n",
       "    <tr>\n",
       "      <th>0</th>\n",
       "      <td>5524</td>\n",
       "      <td>1957-01-01</td>\n",
       "      <td>Graduation</td>\n",
       "      <td>Single</td>\n",
       "      <td>58138.0</td>\n",
       "      <td>0</td>\n",
       "      <td>0</td>\n",
       "      <td>2012-09-04</td>\n",
       "      <td>58</td>\n",
       "      <td>635</td>\n",
       "      <td>88</td>\n",
       "      <td>546</td>\n",
       "      <td>172</td>\n",
       "      <td>88</td>\n",
       "      <td>88</td>\n",
       "      <td>3</td>\n",
       "      <td>8</td>\n",
       "      <td>10</td>\n",
       "      <td>4</td>\n",
       "      <td>7</td>\n",
       "      <td>0</td>\n",
       "      <td>0</td>\n",
       "      <td>0</td>\n",
       "      <td>0</td>\n",
       "      <td>0</td>\n",
       "      <td>0</td>\n",
       "      <td>3</td>\n",
       "      <td>11</td>\n",
       "      <td>1</td>\n",
       "    </tr>\n",
       "    <tr>\n",
       "      <th>1</th>\n",
       "      <td>2174</td>\n",
       "      <td>1954-01-01</td>\n",
       "      <td>Graduation</td>\n",
       "      <td>Single</td>\n",
       "      <td>46344.0</td>\n",
       "      <td>1</td>\n",
       "      <td>1</td>\n",
       "      <td>2014-03-08</td>\n",
       "      <td>38</td>\n",
       "      <td>11</td>\n",
       "      <td>1</td>\n",
       "      <td>6</td>\n",
       "      <td>2</td>\n",
       "      <td>1</td>\n",
       "      <td>6</td>\n",
       "      <td>2</td>\n",
       "      <td>1</td>\n",
       "      <td>1</td>\n",
       "      <td>2</td>\n",
       "      <td>5</td>\n",
       "      <td>0</td>\n",
       "      <td>0</td>\n",
       "      <td>0</td>\n",
       "      <td>0</td>\n",
       "      <td>0</td>\n",
       "      <td>0</td>\n",
       "      <td>3</td>\n",
       "      <td>11</td>\n",
       "      <td>0</td>\n",
       "    </tr>\n",
       "    <tr>\n",
       "      <th>2</th>\n",
       "      <td>4141</td>\n",
       "      <td>1965-01-01</td>\n",
       "      <td>Graduation</td>\n",
       "      <td>Together</td>\n",
       "      <td>71613.0</td>\n",
       "      <td>0</td>\n",
       "      <td>0</td>\n",
       "      <td>2013-08-21</td>\n",
       "      <td>26</td>\n",
       "      <td>426</td>\n",
       "      <td>49</td>\n",
       "      <td>127</td>\n",
       "      <td>111</td>\n",
       "      <td>21</td>\n",
       "      <td>42</td>\n",
       "      <td>1</td>\n",
       "      <td>8</td>\n",
       "      <td>2</td>\n",
       "      <td>10</td>\n",
       "      <td>4</td>\n",
       "      <td>0</td>\n",
       "      <td>0</td>\n",
       "      <td>0</td>\n",
       "      <td>0</td>\n",
       "      <td>0</td>\n",
       "      <td>0</td>\n",
       "      <td>3</td>\n",
       "      <td>11</td>\n",
       "      <td>0</td>\n",
       "    </tr>\n",
       "    <tr>\n",
       "      <th>3</th>\n",
       "      <td>6182</td>\n",
       "      <td>1984-01-01</td>\n",
       "      <td>Graduation</td>\n",
       "      <td>Together</td>\n",
       "      <td>26646.0</td>\n",
       "      <td>1</td>\n",
       "      <td>0</td>\n",
       "      <td>2014-02-10</td>\n",
       "      <td>26</td>\n",
       "      <td>11</td>\n",
       "      <td>4</td>\n",
       "      <td>20</td>\n",
       "      <td>10</td>\n",
       "      <td>3</td>\n",
       "      <td>5</td>\n",
       "      <td>2</td>\n",
       "      <td>2</td>\n",
       "      <td>0</td>\n",
       "      <td>4</td>\n",
       "      <td>6</td>\n",
       "      <td>0</td>\n",
       "      <td>0</td>\n",
       "      <td>0</td>\n",
       "      <td>0</td>\n",
       "      <td>0</td>\n",
       "      <td>0</td>\n",
       "      <td>3</td>\n",
       "      <td>11</td>\n",
       "      <td>0</td>\n",
       "    </tr>\n",
       "    <tr>\n",
       "      <th>4</th>\n",
       "      <td>5324</td>\n",
       "      <td>1981-01-01</td>\n",
       "      <td>PhD</td>\n",
       "      <td>Married</td>\n",
       "      <td>58293.0</td>\n",
       "      <td>1</td>\n",
       "      <td>0</td>\n",
       "      <td>2014-01-19</td>\n",
       "      <td>94</td>\n",
       "      <td>173</td>\n",
       "      <td>43</td>\n",
       "      <td>118</td>\n",
       "      <td>46</td>\n",
       "      <td>27</td>\n",
       "      <td>15</td>\n",
       "      <td>5</td>\n",
       "      <td>5</td>\n",
       "      <td>3</td>\n",
       "      <td>6</td>\n",
       "      <td>5</td>\n",
       "      <td>0</td>\n",
       "      <td>0</td>\n",
       "      <td>0</td>\n",
       "      <td>0</td>\n",
       "      <td>0</td>\n",
       "      <td>0</td>\n",
       "      <td>3</td>\n",
       "      <td>11</td>\n",
       "      <td>0</td>\n",
       "    </tr>\n",
       "  </tbody>\n",
       "</table>\n",
       "</div>"
      ],
      "text/plain": [
       "     ID Year_Birth   Education Marital_Status   Income  Kidhome  Teenhome  \\\n",
       "0  5524 1957-01-01  Graduation         Single  58138.0        0         0   \n",
       "1  2174 1954-01-01  Graduation         Single  46344.0        1         1   \n",
       "2  4141 1965-01-01  Graduation       Together  71613.0        0         0   \n",
       "3  6182 1984-01-01  Graduation       Together  26646.0        1         0   \n",
       "4  5324 1981-01-01         PhD        Married  58293.0        1         0   \n",
       "\n",
       "  Dt_Customer  Recency  MntWines  MntFruits  MntMeatProducts  MntFishProducts  \\\n",
       "0  2012-09-04       58       635         88              546              172   \n",
       "1  2014-03-08       38        11          1                6                2   \n",
       "2  2013-08-21       26       426         49              127              111   \n",
       "3  2014-02-10       26        11          4               20               10   \n",
       "4  2014-01-19       94       173         43              118               46   \n",
       "\n",
       "   MntSweetProducts  MntGoldProducts  NumDealsPurchases  NumWebPurchases  \\\n",
       "0                88               88                  3                8   \n",
       "1                 1                6                  2                1   \n",
       "2                21               42                  1                8   \n",
       "3                 3                5                  2                2   \n",
       "4                27               15                  5                5   \n",
       "\n",
       "   NumCatalogPurchases  NumStorePurchases  NumWebVisitsMonth  AcceptedCmp3  \\\n",
       "0                   10                  4                  7             0   \n",
       "1                    1                  2                  5             0   \n",
       "2                    2                 10                  4             0   \n",
       "3                    0                  4                  6             0   \n",
       "4                    3                  6                  5             0   \n",
       "\n",
       "   AcceptedCmp4  AcceptedCmp5  AcceptedCmp1  AcceptedCmp2  Complain  \\\n",
       "0             0             0             0             0         0   \n",
       "1             0             0             0             0         0   \n",
       "2             0             0             0             0         0   \n",
       "3             0             0             0             0         0   \n",
       "4             0             0             0             0         0   \n",
       "\n",
       "   Z_CostContact  Z_Revenue  Response  \n",
       "0              3         11         1  \n",
       "1              3         11         0  \n",
       "2              3         11         0  \n",
       "3              3         11         0  \n",
       "4              3         11         0  "
      ]
     },
     "execution_count": 25,
     "metadata": {},
     "output_type": "execute_result"
    }
   ],
   "source": [
    "df.head()"
   ]
  },
  {
   "cell_type": "code",
   "execution_count": 26,
   "metadata": {
    "execution": {
     "iopub.execute_input": "2022-07-31T07:21:17.603885Z",
     "iopub.status.busy": "2022-07-31T07:21:17.603222Z",
     "iopub.status.idle": "2022-07-31T07:21:17.610869Z",
     "shell.execute_reply": "2022-07-31T07:21:17.609924Z",
     "shell.execute_reply.started": "2022-07-31T07:21:17.603849Z"
    }
   },
   "outputs": [
    {
     "data": {
      "text/plain": [
       "6.763487372811116"
      ]
     },
     "execution_count": 26,
     "metadata": {},
     "output_type": "execute_result"
    }
   ],
   "source": [
    "# Check the skewness before imputation of numeric cols\n",
    "df['Income'].skew()"
   ]
  },
  {
   "cell_type": "markdown",
   "metadata": {},
   "source": [
    "- If the skewness is between -0.5 and 0.5, the data are fairly symmetrical.\n",
    "- If the skewness is between -1 and – 0.5 or between 0.5 and 1, the data are moderately skewed.\n",
    "- If the skewness is less than -1 or greater than 1, the data are highly skewed.\n"
   ]
  },
  {
   "cell_type": "code",
   "execution_count": 27,
   "metadata": {
    "execution": {
     "iopub.execute_input": "2022-07-31T07:21:17.612962Z",
     "iopub.status.busy": "2022-07-31T07:21:17.612306Z",
     "iopub.status.idle": "2022-07-31T07:21:17.622269Z",
     "shell.execute_reply": "2022-07-31T07:21:17.621140Z",
     "shell.execute_reply.started": "2022-07-31T07:21:17.612916Z"
    }
   },
   "outputs": [],
   "source": [
    "# Replacing null values with median cause the data is skewed which means there are outliers in the data\n",
    "df['Income'].fillna(df['Income'].median(), inplace = True)"
   ]
  },
  {
   "cell_type": "code",
   "execution_count": 28,
   "metadata": {
    "execution": {
     "iopub.execute_input": "2022-07-31T07:21:17.624429Z",
     "iopub.status.busy": "2022-07-31T07:21:17.624036Z",
     "iopub.status.idle": "2022-07-31T07:21:17.636801Z",
     "shell.execute_reply": "2022-07-31T07:21:17.635940Z",
     "shell.execute_reply.started": "2022-07-31T07:21:17.624383Z"
    }
   },
   "outputs": [
    {
     "data": {
      "text/plain": [
       "Graduation    1127\n",
       "PhD            486\n",
       "Master         370\n",
       "2n Cycle       203\n",
       "Basic           54\n",
       "Name: Education, dtype: int64"
      ]
     },
     "execution_count": 28,
     "metadata": {},
     "output_type": "execute_result"
    }
   ],
   "source": [
    "# check the unique values\n",
    "df['Education'].value_counts()"
   ]
  },
  {
   "cell_type": "code",
   "execution_count": 29,
   "metadata": {
    "execution": {
     "iopub.execute_input": "2022-07-31T07:21:17.638802Z",
     "iopub.status.busy": "2022-07-31T07:21:17.637966Z",
     "iopub.status.idle": "2022-07-31T07:21:17.653113Z",
     "shell.execute_reply": "2022-07-31T07:21:17.651614Z",
     "shell.execute_reply.started": "2022-07-31T07:21:17.638751Z"
    }
   },
   "outputs": [
    {
     "data": {
      "text/plain": [
       "Married     864\n",
       "Together    580\n",
       "Single      480\n",
       "Divorced    232\n",
       "Widow        77\n",
       "Alone         3\n",
       "Absurd        2\n",
       "YOLO          2\n",
       "Name: Marital_Status, dtype: int64"
      ]
     },
     "execution_count": 29,
     "metadata": {},
     "output_type": "execute_result"
    }
   ],
   "source": [
    "# check the unique values\n",
    "df['Marital_Status'].value_counts()"
   ]
  },
  {
   "cell_type": "code",
   "execution_count": 30,
   "metadata": {
    "execution": {
     "iopub.execute_input": "2022-07-31T07:21:17.655883Z",
     "iopub.status.busy": "2022-07-31T07:21:17.654920Z",
     "iopub.status.idle": "2022-07-31T07:21:17.666479Z",
     "shell.execute_reply": "2022-07-31T07:21:17.665242Z",
     "shell.execute_reply.started": "2022-07-31T07:21:17.655846Z"
    }
   },
   "outputs": [
    {
     "data": {
      "text/plain": [
       "(2012, 2014)"
      ]
     },
     "execution_count": 30,
     "metadata": {},
     "output_type": "execute_result"
    }
   ],
   "source": [
    "# findout the first and last date in dataset\n",
    "df[\"Dt_Customer\"].dt.year.min() , df[\"Dt_Customer\"].dt.year.max()"
   ]
  },
  {
   "cell_type": "markdown",
   "metadata": {},
   "source": [
    "\n",
    "*  Create `Age`,`Years_Customer` and `Days_Customer` columns by substracting last date of `Dt_Customer` from `Year_Birth` and `Dt_Customer`\n",
    "*  Create `TotalMntSpent`,`TotalNumPurchases` and `TotalAccCmp` by adding the relative columns\n",
    "*  Create `Year_Joined`,`Month_Joined` and `Day_Joined` columns through `dt_Customer`\n",
    "*  Create `Age_Group` column by dividing `Age` column into different groups\n",
    "*  Create `Children` column by adding `Kidhome` and `Teenhome` columns\n",
    "* Create `Partner` and `Education_Level` for simplifying `Marital_Status` and `Education` columns\n",
    "* Drop the redundant columns"
   ]
  },
  {
   "cell_type": "code",
   "execution_count": 31,
   "metadata": {
    "execution": {
     "iopub.execute_input": "2022-07-31T07:21:17.668431Z",
     "iopub.status.busy": "2022-07-31T07:21:17.667663Z",
     "iopub.status.idle": "2022-07-31T07:21:17.719886Z",
     "shell.execute_reply": "2022-07-31T07:21:17.718701Z",
     "shell.execute_reply.started": "2022-07-31T07:21:17.668396Z"
    }
   },
   "outputs": [],
   "source": [
    "# Creating Age and Years_Customer ( Amount of years a personn has been customer) columns.\n",
    "df['Age'] = (df[\"Dt_Customer\"].dt.year.max()) - (df['Year_Birth'].dt.year)\n",
    "df['Years_Customer'] = (df[\"Dt_Customer\"].dt.year.max()) - (df['Dt_Customer'].dt.year)\n",
    "df['Days_Customer'] = (df[\"Dt_Customer\"].max()) - (df['Dt_Customer'])\n",
    "\n",
    "# Total amount spent on products\n",
    "df['TotalMntSpent'] = df['MntWines'] + df['MntFruits'] + df['MntMeatProducts'] + df['MntFishProducts'] + df['MntSweetProducts'] + df['MntGoldProducts']\n",
    "\n",
    "# Total number of purchases made\n",
    "df['TotalNumPurchases'] = df['NumWebPurchases'] + df['NumCatalogPurchases'] + df['NumStorePurchases'] + df['NumDealsPurchases']\n",
    "\n",
    "# Total number of accepted campaigns\n",
    "df['Total_Acc_Cmp'] = df['AcceptedCmp1'] + df['AcceptedCmp2'] + df['AcceptedCmp3'] + df['AcceptedCmp4'] + df['AcceptedCmp5'] + df['Response']\n",
    "\n",
    "# adding columns about the day, month and year cutomer joined\n",
    "df['Year_Joined'] = df['Dt_Customer'].dt.year\n",
    "df['Month_Joined'] = df['Dt_Customer'].dt.strftime(\"%B\")\n",
    "df['Day_Joined'] = df['Dt_Customer'].dt.day_name()\n",
    "\n",
    "# dividing age into groups\n",
    "df['Age_Group'] = pd.cut(x = df['Age'], bins = [17, 24, 44, 64, 150],\n",
    "                         labels = ['Young adult','Adult','Middel Aged','Senior Citizen'])\n",
    "# Total children living in the household\n",
    "df[\"Children\"] = df[\"Kidhome\"] +  df[\"Teenhome\"]\n",
    "\n",
    "#Deriving living situation by marital status\n",
    "df[\"Partner\"]=df[\"Marital_Status\"].replace({\"Married\":\"Yes\", \"Together\":\"Yes\", \"Absurd\":\"No\", \"Widow\":\"No\", \"YOLO\":\"No\", \"Divorced\":\"No\", \"Single\":\"No\",\"Alone\":\"No\"})\n",
    "\n",
    "#Segmenting education levels in three groups\n",
    "df[\"Education_Level\"]=df[\"Education\"].replace({\"Basic\":\"Undergraduate\",\"2n Cycle\":\"Undergraduate\", \"Graduation\":\"Graduate\", \"Master\":\"Postgraduate\", \"PhD\":\"Postgraduate\"})"
   ]
  },
  {
   "cell_type": "code",
   "execution_count": 32,
   "metadata": {
    "execution": {
     "iopub.execute_input": "2022-07-31T07:21:17.721746Z",
     "iopub.status.busy": "2022-07-31T07:21:17.721379Z",
     "iopub.status.idle": "2022-07-31T07:21:17.730814Z",
     "shell.execute_reply": "2022-07-31T07:21:17.729478Z",
     "shell.execute_reply.started": "2022-07-31T07:21:17.721713Z"
    }
   },
   "outputs": [],
   "source": [
    "# Dropping useless columns\n",
    "df.drop(['ID','Z_CostContact','Z_Revenue','Year_Birth','Dt_Customer'], axis=1, inplace=True)"
   ]
  },
  {
   "cell_type": "code",
   "execution_count": 33,
   "metadata": {
    "execution": {
     "iopub.execute_input": "2022-07-31T07:21:17.732701Z",
     "iopub.status.busy": "2022-07-31T07:21:17.732182Z",
     "iopub.status.idle": "2022-07-31T07:21:17.741152Z",
     "shell.execute_reply": "2022-07-31T07:21:17.740379Z",
     "shell.execute_reply.started": "2022-07-31T07:21:17.732659Z"
    }
   },
   "outputs": [],
   "source": [
    "# Converting Days_Joined to int format\n",
    "df['Days_Customer'] = df['Days_Customer'].dt.days.astype('int16')"
   ]
  },
  {
   "cell_type": "code",
   "execution_count": 34,
   "metadata": {
    "execution": {
     "iopub.execute_input": "2022-07-31T07:21:17.742902Z",
     "iopub.status.busy": "2022-07-31T07:21:17.742399Z",
     "iopub.status.idle": "2022-07-31T07:21:17.776350Z",
     "shell.execute_reply": "2022-07-31T07:21:17.775385Z",
     "shell.execute_reply.started": "2022-07-31T07:21:17.742842Z"
    }
   },
   "outputs": [
    {
     "name": "stdout",
     "output_type": "stream",
     "text": [
      "(2240, 37)\n"
     ]
    },
    {
     "data": {
      "text/html": [
       "<div>\n",
       "<style scoped>\n",
       "    .dataframe tbody tr th:only-of-type {\n",
       "        vertical-align: middle;\n",
       "    }\n",
       "\n",
       "    .dataframe tbody tr th {\n",
       "        vertical-align: top;\n",
       "    }\n",
       "\n",
       "    .dataframe thead th {\n",
       "        text-align: right;\n",
       "    }\n",
       "</style>\n",
       "<table border=\"1\" class=\"dataframe\">\n",
       "  <thead>\n",
       "    <tr style=\"text-align: right;\">\n",
       "      <th></th>\n",
       "      <th>Education</th>\n",
       "      <th>Marital_Status</th>\n",
       "      <th>Income</th>\n",
       "      <th>Kidhome</th>\n",
       "      <th>Teenhome</th>\n",
       "      <th>Recency</th>\n",
       "      <th>MntWines</th>\n",
       "      <th>MntFruits</th>\n",
       "      <th>MntMeatProducts</th>\n",
       "      <th>MntFishProducts</th>\n",
       "      <th>MntSweetProducts</th>\n",
       "      <th>MntGoldProducts</th>\n",
       "      <th>NumDealsPurchases</th>\n",
       "      <th>NumWebPurchases</th>\n",
       "      <th>NumCatalogPurchases</th>\n",
       "      <th>NumStorePurchases</th>\n",
       "      <th>NumWebVisitsMonth</th>\n",
       "      <th>AcceptedCmp3</th>\n",
       "      <th>AcceptedCmp4</th>\n",
       "      <th>AcceptedCmp5</th>\n",
       "      <th>AcceptedCmp1</th>\n",
       "      <th>AcceptedCmp2</th>\n",
       "      <th>Complain</th>\n",
       "      <th>Response</th>\n",
       "      <th>Age</th>\n",
       "      <th>Years_Customer</th>\n",
       "      <th>Days_Customer</th>\n",
       "      <th>TotalMntSpent</th>\n",
       "      <th>TotalNumPurchases</th>\n",
       "      <th>Total_Acc_Cmp</th>\n",
       "      <th>Year_Joined</th>\n",
       "      <th>Month_Joined</th>\n",
       "      <th>Day_Joined</th>\n",
       "      <th>Age_Group</th>\n",
       "      <th>Children</th>\n",
       "      <th>Partner</th>\n",
       "      <th>Education_Level</th>\n",
       "    </tr>\n",
       "  </thead>\n",
       "  <tbody>\n",
       "    <tr>\n",
       "      <th>0</th>\n",
       "      <td>Graduation</td>\n",
       "      <td>Single</td>\n",
       "      <td>58138.0</td>\n",
       "      <td>0</td>\n",
       "      <td>0</td>\n",
       "      <td>58</td>\n",
       "      <td>635</td>\n",
       "      <td>88</td>\n",
       "      <td>546</td>\n",
       "      <td>172</td>\n",
       "      <td>88</td>\n",
       "      <td>88</td>\n",
       "      <td>3</td>\n",
       "      <td>8</td>\n",
       "      <td>10</td>\n",
       "      <td>4</td>\n",
       "      <td>7</td>\n",
       "      <td>0</td>\n",
       "      <td>0</td>\n",
       "      <td>0</td>\n",
       "      <td>0</td>\n",
       "      <td>0</td>\n",
       "      <td>0</td>\n",
       "      <td>1</td>\n",
       "      <td>57</td>\n",
       "      <td>2</td>\n",
       "      <td>663</td>\n",
       "      <td>1617</td>\n",
       "      <td>25</td>\n",
       "      <td>1</td>\n",
       "      <td>2012</td>\n",
       "      <td>September</td>\n",
       "      <td>Tuesday</td>\n",
       "      <td>Middel Aged</td>\n",
       "      <td>0</td>\n",
       "      <td>No</td>\n",
       "      <td>Graduate</td>\n",
       "    </tr>\n",
       "    <tr>\n",
       "      <th>1</th>\n",
       "      <td>Graduation</td>\n",
       "      <td>Single</td>\n",
       "      <td>46344.0</td>\n",
       "      <td>1</td>\n",
       "      <td>1</td>\n",
       "      <td>38</td>\n",
       "      <td>11</td>\n",
       "      <td>1</td>\n",
       "      <td>6</td>\n",
       "      <td>2</td>\n",
       "      <td>1</td>\n",
       "      <td>6</td>\n",
       "      <td>2</td>\n",
       "      <td>1</td>\n",
       "      <td>1</td>\n",
       "      <td>2</td>\n",
       "      <td>5</td>\n",
       "      <td>0</td>\n",
       "      <td>0</td>\n",
       "      <td>0</td>\n",
       "      <td>0</td>\n",
       "      <td>0</td>\n",
       "      <td>0</td>\n",
       "      <td>0</td>\n",
       "      <td>60</td>\n",
       "      <td>0</td>\n",
       "      <td>113</td>\n",
       "      <td>27</td>\n",
       "      <td>6</td>\n",
       "      <td>0</td>\n",
       "      <td>2014</td>\n",
       "      <td>March</td>\n",
       "      <td>Saturday</td>\n",
       "      <td>Middel Aged</td>\n",
       "      <td>2</td>\n",
       "      <td>No</td>\n",
       "      <td>Graduate</td>\n",
       "    </tr>\n",
       "    <tr>\n",
       "      <th>2</th>\n",
       "      <td>Graduation</td>\n",
       "      <td>Together</td>\n",
       "      <td>71613.0</td>\n",
       "      <td>0</td>\n",
       "      <td>0</td>\n",
       "      <td>26</td>\n",
       "      <td>426</td>\n",
       "      <td>49</td>\n",
       "      <td>127</td>\n",
       "      <td>111</td>\n",
       "      <td>21</td>\n",
       "      <td>42</td>\n",
       "      <td>1</td>\n",
       "      <td>8</td>\n",
       "      <td>2</td>\n",
       "      <td>10</td>\n",
       "      <td>4</td>\n",
       "      <td>0</td>\n",
       "      <td>0</td>\n",
       "      <td>0</td>\n",
       "      <td>0</td>\n",
       "      <td>0</td>\n",
       "      <td>0</td>\n",
       "      <td>0</td>\n",
       "      <td>49</td>\n",
       "      <td>1</td>\n",
       "      <td>312</td>\n",
       "      <td>776</td>\n",
       "      <td>21</td>\n",
       "      <td>0</td>\n",
       "      <td>2013</td>\n",
       "      <td>August</td>\n",
       "      <td>Wednesday</td>\n",
       "      <td>Middel Aged</td>\n",
       "      <td>0</td>\n",
       "      <td>Yes</td>\n",
       "      <td>Graduate</td>\n",
       "    </tr>\n",
       "    <tr>\n",
       "      <th>3</th>\n",
       "      <td>Graduation</td>\n",
       "      <td>Together</td>\n",
       "      <td>26646.0</td>\n",
       "      <td>1</td>\n",
       "      <td>0</td>\n",
       "      <td>26</td>\n",
       "      <td>11</td>\n",
       "      <td>4</td>\n",
       "      <td>20</td>\n",
       "      <td>10</td>\n",
       "      <td>3</td>\n",
       "      <td>5</td>\n",
       "      <td>2</td>\n",
       "      <td>2</td>\n",
       "      <td>0</td>\n",
       "      <td>4</td>\n",
       "      <td>6</td>\n",
       "      <td>0</td>\n",
       "      <td>0</td>\n",
       "      <td>0</td>\n",
       "      <td>0</td>\n",
       "      <td>0</td>\n",
       "      <td>0</td>\n",
       "      <td>0</td>\n",
       "      <td>30</td>\n",
       "      <td>0</td>\n",
       "      <td>139</td>\n",
       "      <td>53</td>\n",
       "      <td>8</td>\n",
       "      <td>0</td>\n",
       "      <td>2014</td>\n",
       "      <td>February</td>\n",
       "      <td>Monday</td>\n",
       "      <td>Adult</td>\n",
       "      <td>1</td>\n",
       "      <td>Yes</td>\n",
       "      <td>Graduate</td>\n",
       "    </tr>\n",
       "    <tr>\n",
       "      <th>4</th>\n",
       "      <td>PhD</td>\n",
       "      <td>Married</td>\n",
       "      <td>58293.0</td>\n",
       "      <td>1</td>\n",
       "      <td>0</td>\n",
       "      <td>94</td>\n",
       "      <td>173</td>\n",
       "      <td>43</td>\n",
       "      <td>118</td>\n",
       "      <td>46</td>\n",
       "      <td>27</td>\n",
       "      <td>15</td>\n",
       "      <td>5</td>\n",
       "      <td>5</td>\n",
       "      <td>3</td>\n",
       "      <td>6</td>\n",
       "      <td>5</td>\n",
       "      <td>0</td>\n",
       "      <td>0</td>\n",
       "      <td>0</td>\n",
       "      <td>0</td>\n",
       "      <td>0</td>\n",
       "      <td>0</td>\n",
       "      <td>0</td>\n",
       "      <td>33</td>\n",
       "      <td>0</td>\n",
       "      <td>161</td>\n",
       "      <td>422</td>\n",
       "      <td>19</td>\n",
       "      <td>0</td>\n",
       "      <td>2014</td>\n",
       "      <td>January</td>\n",
       "      <td>Sunday</td>\n",
       "      <td>Adult</td>\n",
       "      <td>1</td>\n",
       "      <td>Yes</td>\n",
       "      <td>Postgraduate</td>\n",
       "    </tr>\n",
       "  </tbody>\n",
       "</table>\n",
       "</div>"
      ],
      "text/plain": [
       "    Education Marital_Status   Income  Kidhome  Teenhome  Recency  MntWines  \\\n",
       "0  Graduation         Single  58138.0        0         0       58       635   \n",
       "1  Graduation         Single  46344.0        1         1       38        11   \n",
       "2  Graduation       Together  71613.0        0         0       26       426   \n",
       "3  Graduation       Together  26646.0        1         0       26        11   \n",
       "4         PhD        Married  58293.0        1         0       94       173   \n",
       "\n",
       "   MntFruits  MntMeatProducts  MntFishProducts  MntSweetProducts  \\\n",
       "0         88              546              172                88   \n",
       "1          1                6                2                 1   \n",
       "2         49              127              111                21   \n",
       "3          4               20               10                 3   \n",
       "4         43              118               46                27   \n",
       "\n",
       "   MntGoldProducts  NumDealsPurchases  NumWebPurchases  NumCatalogPurchases  \\\n",
       "0               88                  3                8                   10   \n",
       "1                6                  2                1                    1   \n",
       "2               42                  1                8                    2   \n",
       "3                5                  2                2                    0   \n",
       "4               15                  5                5                    3   \n",
       "\n",
       "   NumStorePurchases  NumWebVisitsMonth  AcceptedCmp3  AcceptedCmp4  \\\n",
       "0                  4                  7             0             0   \n",
       "1                  2                  5             0             0   \n",
       "2                 10                  4             0             0   \n",
       "3                  4                  6             0             0   \n",
       "4                  6                  5             0             0   \n",
       "\n",
       "   AcceptedCmp5  AcceptedCmp1  AcceptedCmp2  Complain  Response  Age  \\\n",
       "0             0             0             0         0         1   57   \n",
       "1             0             0             0         0         0   60   \n",
       "2             0             0             0         0         0   49   \n",
       "3             0             0             0         0         0   30   \n",
       "4             0             0             0         0         0   33   \n",
       "\n",
       "   Years_Customer  Days_Customer  TotalMntSpent  TotalNumPurchases  \\\n",
       "0               2            663           1617                 25   \n",
       "1               0            113             27                  6   \n",
       "2               1            312            776                 21   \n",
       "3               0            139             53                  8   \n",
       "4               0            161            422                 19   \n",
       "\n",
       "   Total_Acc_Cmp  Year_Joined Month_Joined Day_Joined    Age_Group  Children  \\\n",
       "0              1         2012    September    Tuesday  Middel Aged         0   \n",
       "1              0         2014        March   Saturday  Middel Aged         2   \n",
       "2              0         2013       August  Wednesday  Middel Aged         0   \n",
       "3              0         2014     February     Monday        Adult         1   \n",
       "4              0         2014      January     Sunday        Adult         1   \n",
       "\n",
       "  Partner Education_Level  \n",
       "0      No        Graduate  \n",
       "1      No        Graduate  \n",
       "2     Yes        Graduate  \n",
       "3     Yes        Graduate  \n",
       "4     Yes    Postgraduate  "
      ]
     },
     "execution_count": 34,
     "metadata": {},
     "output_type": "execute_result"
    }
   ],
   "source": [
    "print(df.shape)\n",
    "df.head()"
   ]
  },
  {
   "cell_type": "code",
   "execution_count": 35,
   "metadata": {
    "execution": {
     "iopub.execute_input": "2022-07-31T07:21:17.778940Z",
     "iopub.status.busy": "2022-07-31T07:21:17.777827Z",
     "iopub.status.idle": "2022-07-31T07:21:17.794379Z",
     "shell.execute_reply": "2022-07-31T07:21:17.793121Z",
     "shell.execute_reply.started": "2022-07-31T07:21:17.778901Z"
    }
   },
   "outputs": [],
   "source": [
    "df1 = df.copy() # make a copy\n",
    "df1.drop(['Education','Marital_Status','Years_Customer','Year_Joined','Month_Joined','Day_Joined'], axis=1, inplace=True)"
   ]
  },
  {
   "cell_type": "markdown",
   "metadata": {},
   "source": [
    "#### Let's use capping technique to treat outliers\n"
   ]
  },
  {
   "cell_type": "code",
   "execution_count": 36,
   "metadata": {
    "execution": {
     "iopub.execute_input": "2022-07-31T07:21:17.797992Z",
     "iopub.status.busy": "2022-07-31T07:21:17.797474Z",
     "iopub.status.idle": "2022-07-31T07:21:17.807022Z",
     "shell.execute_reply": "2022-07-31T07:21:17.805773Z",
     "shell.execute_reply.started": "2022-07-31T07:21:17.797943Z"
    }
   },
   "outputs": [],
   "source": [
    "num_col = df1.select_dtypes(include = np.number).columns"
   ]
  },
  {
   "cell_type": "code",
   "execution_count": 37,
   "metadata": {
    "execution": {
     "iopub.execute_input": "2022-07-31T07:21:17.809399Z",
     "iopub.status.busy": "2022-07-31T07:21:17.808817Z",
     "iopub.status.idle": "2022-07-31T07:21:20.629732Z",
     "shell.execute_reply": "2022-07-31T07:21:20.627919Z",
     "shell.execute_reply.started": "2022-07-31T07:21:17.809346Z"
    }
   },
   "outputs": [
    {
     "name": "stdout",
     "output_type": "stream",
     "text": [
      "Outliers have been taken care of\n"
     ]
    }
   ],
   "source": [
    "for col in num_col:\n",
    "    q1 = df1[col].quantile(0.25)\n",
    "    q3 = df1[col].quantile(0.75)\n",
    "    iqr = q3-q1\n",
    "    ll = q1-(1.5*iqr)\n",
    "    ul = q3+(1.5*iqr)\n",
    "    for ind in df1[col].index:\n",
    "        if df1.loc[ind,col]>ul:\n",
    "            df1.loc[ind,col]=ul\n",
    "        elif df1.loc[ind,col]<ll:\n",
    "            df1.loc[ind,col]=ll\n",
    "        else:\n",
    "            pass\n",
    "print(\"Outliers have been taken care of\")"
   ]
  },
  {
   "cell_type": "markdown",
   "metadata": {},
   "source": [
    "# <p style=\"background-color:#29285D;font-family:verdana;color:white;font-size:100%;text-align:center;border-radius:10px 10px;letter-spacing:0.5px;padding: 10px\">FEATURE TRANSFORMATION</p> "
   ]
  },
  {
   "cell_type": "code",
   "execution_count": 23,
   "metadata": {
    "execution": {
     "iopub.execute_input": "2022-07-31T07:21:20.632112Z",
     "iopub.status.busy": "2022-07-31T07:21:20.631204Z",
     "iopub.status.idle": "2022-07-31T07:21:20.650021Z",
     "shell.execute_reply": "2022-07-31T07:21:20.648586Z",
     "shell.execute_reply.started": "2022-07-31T07:21:20.632067Z"
    }
   },
   "outputs": [
    {
     "name": "stdout",
     "output_type": "stream",
     "text": [
      "This is the data we will use for clustering:\n"
     ]
    },
    {
     "data": {
      "text/html": [
       "<div>\n",
       "<style scoped>\n",
       "    .dataframe tbody tr th:only-of-type {\n",
       "        vertical-align: middle;\n",
       "    }\n",
       "\n",
       "    .dataframe tbody tr th {\n",
       "        vertical-align: top;\n",
       "    }\n",
       "\n",
       "    .dataframe thead th {\n",
       "        text-align: right;\n",
       "    }\n",
       "</style>\n",
       "<table border=\"1\" class=\"dataframe\">\n",
       "  <thead>\n",
       "    <tr style=\"text-align: right;\">\n",
       "      <th></th>\n",
       "      <th>Income</th>\n",
       "      <th>Kidhome</th>\n",
       "      <th>Teenhome</th>\n",
       "      <th>Age</th>\n",
       "      <th>Partner</th>\n",
       "      <th>Education_Level</th>\n",
       "    </tr>\n",
       "  </thead>\n",
       "  <tbody>\n",
       "    <tr>\n",
       "      <th>0</th>\n",
       "      <td>58138.0</td>\n",
       "      <td>0</td>\n",
       "      <td>0</td>\n",
       "      <td>57</td>\n",
       "      <td>No</td>\n",
       "      <td>Graduate</td>\n",
       "    </tr>\n",
       "    <tr>\n",
       "      <th>1</th>\n",
       "      <td>46344.0</td>\n",
       "      <td>1</td>\n",
       "      <td>1</td>\n",
       "      <td>60</td>\n",
       "      <td>No</td>\n",
       "      <td>Graduate</td>\n",
       "    </tr>\n",
       "    <tr>\n",
       "      <th>2</th>\n",
       "      <td>71613.0</td>\n",
       "      <td>0</td>\n",
       "      <td>0</td>\n",
       "      <td>49</td>\n",
       "      <td>Yes</td>\n",
       "      <td>Graduate</td>\n",
       "    </tr>\n",
       "    <tr>\n",
       "      <th>3</th>\n",
       "      <td>26646.0</td>\n",
       "      <td>1</td>\n",
       "      <td>0</td>\n",
       "      <td>30</td>\n",
       "      <td>Yes</td>\n",
       "      <td>Graduate</td>\n",
       "    </tr>\n",
       "    <tr>\n",
       "      <th>4</th>\n",
       "      <td>58293.0</td>\n",
       "      <td>1</td>\n",
       "      <td>0</td>\n",
       "      <td>33</td>\n",
       "      <td>Yes</td>\n",
       "      <td>Postgraduate</td>\n",
       "    </tr>\n",
       "  </tbody>\n",
       "</table>\n",
       "</div>"
      ],
      "text/plain": [
       "    Income  Kidhome  Teenhome  Age Partner Education_Level\n",
       "0  58138.0        0         0   57      No        Graduate\n",
       "1  46344.0        1         1   60      No        Graduate\n",
       "2  71613.0        0         0   49     Yes        Graduate\n",
       "3  26646.0        1         0   30     Yes        Graduate\n",
       "4  58293.0        1         0   33     Yes    Postgraduate"
      ]
     },
     "execution_count": 23,
     "metadata": {},
     "output_type": "execute_result"
    }
   ],
   "source": [
    "# selecting the cols to use\n",
    "subset = df1[['Income','Kidhome','Teenhome','Age','Partner','Education_Level']]\n",
    "print('This is the data we will use for clustering:')\n",
    "subset.head()"
   ]
  },
  {
   "cell_type": "code",
   "execution_count": 24,
   "metadata": {
    "execution": {
     "iopub.execute_input": "2022-07-31T07:21:20.653459Z",
     "iopub.status.busy": "2022-07-31T07:21:20.651977Z",
     "iopub.status.idle": "2022-07-31T07:21:20.682921Z",
     "shell.execute_reply": "2022-07-31T07:21:20.682007Z",
     "shell.execute_reply.started": "2022-07-31T07:21:20.653405Z"
    }
   },
   "outputs": [
    {
     "data": {
      "text/html": [
       "<div>\n",
       "<style scoped>\n",
       "    .dataframe tbody tr th:only-of-type {\n",
       "        vertical-align: middle;\n",
       "    }\n",
       "\n",
       "    .dataframe tbody tr th {\n",
       "        vertical-align: top;\n",
       "    }\n",
       "\n",
       "    .dataframe thead th {\n",
       "        text-align: right;\n",
       "    }\n",
       "</style>\n",
       "<table border=\"1\" class=\"dataframe\">\n",
       "  <thead>\n",
       "    <tr style=\"text-align: right;\">\n",
       "      <th></th>\n",
       "      <th>Income</th>\n",
       "      <th>Kidhome</th>\n",
       "      <th>Teenhome</th>\n",
       "      <th>Age</th>\n",
       "    </tr>\n",
       "  </thead>\n",
       "  <tbody>\n",
       "    <tr>\n",
       "      <th>count</th>\n",
       "      <td>2240.000000</td>\n",
       "      <td>2240.000000</td>\n",
       "      <td>2240.000000</td>\n",
       "      <td>2240.000000</td>\n",
       "    </tr>\n",
       "    <tr>\n",
       "      <th>mean</th>\n",
       "      <td>51865.874554</td>\n",
       "      <td>0.444196</td>\n",
       "      <td>0.506250</td>\n",
       "      <td>45.147768</td>\n",
       "    </tr>\n",
       "    <tr>\n",
       "      <th>std</th>\n",
       "      <td>20936.104821</td>\n",
       "      <td>0.538398</td>\n",
       "      <td>0.544538</td>\n",
       "      <td>11.771725</td>\n",
       "    </tr>\n",
       "    <tr>\n",
       "      <th>min</th>\n",
       "      <td>1730.000000</td>\n",
       "      <td>0.000000</td>\n",
       "      <td>0.000000</td>\n",
       "      <td>18.000000</td>\n",
       "    </tr>\n",
       "    <tr>\n",
       "      <th>25%</th>\n",
       "      <td>35538.750000</td>\n",
       "      <td>0.000000</td>\n",
       "      <td>0.000000</td>\n",
       "      <td>37.000000</td>\n",
       "    </tr>\n",
       "    <tr>\n",
       "      <th>50%</th>\n",
       "      <td>51381.500000</td>\n",
       "      <td>0.000000</td>\n",
       "      <td>0.000000</td>\n",
       "      <td>44.000000</td>\n",
       "    </tr>\n",
       "    <tr>\n",
       "      <th>75%</th>\n",
       "      <td>68289.750000</td>\n",
       "      <td>1.000000</td>\n",
       "      <td>1.000000</td>\n",
       "      <td>55.000000</td>\n",
       "    </tr>\n",
       "    <tr>\n",
       "      <th>max</th>\n",
       "      <td>117416.250000</td>\n",
       "      <td>2.000000</td>\n",
       "      <td>2.000000</td>\n",
       "      <td>82.000000</td>\n",
       "    </tr>\n",
       "  </tbody>\n",
       "</table>\n",
       "</div>"
      ],
      "text/plain": [
       "              Income      Kidhome     Teenhome          Age\n",
       "count    2240.000000  2240.000000  2240.000000  2240.000000\n",
       "mean    51865.874554     0.444196     0.506250    45.147768\n",
       "std     20936.104821     0.538398     0.544538    11.771725\n",
       "min      1730.000000     0.000000     0.000000    18.000000\n",
       "25%     35538.750000     0.000000     0.000000    37.000000\n",
       "50%     51381.500000     0.000000     0.000000    44.000000\n",
       "75%     68289.750000     1.000000     1.000000    55.000000\n",
       "max    117416.250000     2.000000     2.000000    82.000000"
      ]
     },
     "execution_count": 24,
     "metadata": {},
     "output_type": "execute_result"
    }
   ],
   "source": [
    "# examin the min, max and mean of your columns\n",
    "subset.describe()"
   ]
  },
  {
   "cell_type": "markdown",
   "metadata": {},
   "source": [
    "### **Make the pipelines**\n",
    "\n",
    "\n",
    "\n"
   ]
  },
  {
   "cell_type": "code",
   "execution_count": 25,
   "metadata": {
    "execution": {
     "iopub.execute_input": "2022-07-31T07:21:20.685337Z",
     "iopub.status.busy": "2022-07-31T07:21:20.684632Z",
     "iopub.status.idle": "2022-07-31T07:21:20.695670Z",
     "shell.execute_reply": "2022-07-31T07:21:20.694673Z",
     "shell.execute_reply.started": "2022-07-31T07:21:20.685304Z"
    }
   },
   "outputs": [],
   "source": [
    "# Importing essential libraries for bulding pipeline\n",
    "from sklearn.pipeline import make_pipeline\n",
    "from sklearn.compose import ColumnTransformer"
   ]
  },
  {
   "cell_type": "code",
   "execution_count": 26,
   "metadata": {
    "execution": {
     "iopub.execute_input": "2022-07-31T07:21:20.698825Z",
     "iopub.status.busy": "2022-07-31T07:21:20.697523Z",
     "iopub.status.idle": "2022-07-31T07:21:20.704567Z",
     "shell.execute_reply": "2022-07-31T07:21:20.703248Z",
     "shell.execute_reply.started": "2022-07-31T07:21:20.698713Z"
    }
   },
   "outputs": [],
   "source": [
    "# I am not scaling the kidhome, teenhome cols, cause thire min, max lies between 0 & 2\n",
    "num_cols = ['Income','Age']\n",
    "numeric_pipeline = make_pipeline(StandardScaler())"
   ]
  },
  {
   "cell_type": "code",
   "execution_count": 27,
   "metadata": {
    "execution": {
     "iopub.execute_input": "2022-07-31T07:21:20.707564Z",
     "iopub.status.busy": "2022-07-31T07:21:20.707093Z",
     "iopub.status.idle": "2022-07-31T07:21:20.715409Z",
     "shell.execute_reply": "2022-07-31T07:21:20.714437Z",
     "shell.execute_reply.started": "2022-07-31T07:21:20.707489Z"
    }
   },
   "outputs": [],
   "source": [
    "ord_cols = ['Education_Level']\n",
    "ordinal_pipeline = make_pipeline(OrdinalEncoder(categories=[['Undergraduate','Graduate','Postgraduate']]))"
   ]
  },
  {
   "cell_type": "code",
   "execution_count": 28,
   "metadata": {
    "execution": {
     "iopub.execute_input": "2022-07-31T07:21:20.723323Z",
     "iopub.status.busy": "2022-07-31T07:21:20.722225Z",
     "iopub.status.idle": "2022-07-31T07:21:20.729118Z",
     "shell.execute_reply": "2022-07-31T07:21:20.727884Z",
     "shell.execute_reply.started": "2022-07-31T07:21:20.723283Z"
    }
   },
   "outputs": [],
   "source": [
    "nom_cols = ['Partner']\n",
    "nominal_pipeline = make_pipeline(OneHotEncoder())"
   ]
  },
  {
   "cell_type": "code",
   "execution_count": 29,
   "metadata": {
    "execution": {
     "iopub.execute_input": "2022-07-31T07:21:20.731665Z",
     "iopub.status.busy": "2022-07-31T07:21:20.730843Z",
     "iopub.status.idle": "2022-07-31T07:21:20.740180Z",
     "shell.execute_reply": "2022-07-31T07:21:20.739336Z",
     "shell.execute_reply.started": "2022-07-31T07:21:20.731617Z"
    }
   },
   "outputs": [],
   "source": [
    "# stack your pipelines in column transformer\n",
    "transformer = ColumnTransformer(transformers=[('num',numeric_pipeline,num_cols),\n",
    "                                           ('ordinal', ordinal_pipeline,ord_cols),\n",
    "                                              ('nominal' ,nominal_pipeline,nom_cols)\n",
    "                                             ])"
   ]
  },
  {
   "cell_type": "code",
   "execution_count": 30,
   "metadata": {
    "execution": {
     "iopub.execute_input": "2022-07-31T07:21:20.742428Z",
     "iopub.status.busy": "2022-07-31T07:21:20.741690Z",
     "iopub.status.idle": "2022-07-31T07:21:20.768226Z",
     "shell.execute_reply": "2022-07-31T07:21:20.766417Z",
     "shell.execute_reply.started": "2022-07-31T07:21:20.742380Z"
    }
   },
   "outputs": [
    {
     "data": {
      "text/plain": [
       "ColumnTransformer(transformers=[('num',\n",
       "                                 Pipeline(steps=[('standardscaler',\n",
       "                                                  StandardScaler())]),\n",
       "                                 ['Income', 'Age']),\n",
       "                                ('ordinal',\n",
       "                                 Pipeline(steps=[('ordinalencoder',\n",
       "                                                  OrdinalEncoder(categories=[['Undergraduate',\n",
       "                                                                              'Graduate',\n",
       "                                                                              'Postgraduate']]))]),\n",
       "                                 ['Education_Level']),\n",
       "                                ('nominal',\n",
       "                                 Pipeline(steps=[('onehotencoder',\n",
       "                                                  OneHotEncoder())]),\n",
       "                                 ['Partner'])])"
      ]
     },
     "execution_count": 30,
     "metadata": {},
     "output_type": "execute_result"
    }
   ],
   "source": [
    "transformer"
   ]
  },
  {
   "cell_type": "code",
   "execution_count": 31,
   "metadata": {
    "execution": {
     "iopub.execute_input": "2022-07-31T07:26:19.260096Z",
     "iopub.status.busy": "2022-07-31T07:26:19.259635Z",
     "iopub.status.idle": "2022-07-31T07:26:19.279519Z",
     "shell.execute_reply": "2022-07-31T07:26:19.278234Z",
     "shell.execute_reply.started": "2022-07-31T07:26:19.260041Z"
    }
   },
   "outputs": [
    {
     "name": "stdout",
     "output_type": "stream",
     "text": [
      "Data has been Transformed\n"
     ]
    }
   ],
   "source": [
    "# Now lets fit and transform the data\n",
    "transformed = transformer.fit_transform(subset)\n",
    "print('Data has been Transformed')"
   ]
  },
  {
   "cell_type": "markdown",
   "metadata": {},
   "source": [
    "# <p style=\"background-color:#29285D;font-family:verdana;color:white;font-size:100%;text-align:center;border-radius:10px 10px;letter-spacing:0.5px;padding: 10px\">K-MEANS CLUSTERING & CLUSTER's ANALYSIS </p> "
   ]
  },
  {
   "cell_type": "markdown",
   "metadata": {},
   "source": [
    "### Optimum Clusters Using Elbow Method"
   ]
  },
  {
   "cell_type": "code",
   "execution_count": 32,
   "metadata": {
    "execution": {
     "iopub.execute_input": "2022-07-31T07:26:25.345668Z",
     "iopub.status.busy": "2022-07-31T07:26:25.345274Z",
     "iopub.status.idle": "2022-07-31T07:26:39.336109Z",
     "shell.execute_reply": "2022-07-31T07:26:39.335300Z",
     "shell.execute_reply.started": "2022-07-31T07:26:25.345637Z"
    }
   },
   "outputs": [
    {
     "data": {
      "image/png": "[encoded data removed]",
      "text/plain": [
       "<Figure size 1200x800 with 2 Axes>"
      ]
     },
     "metadata": {},
     "output_type": "display_data"
    },
    {
     "data": {
      "text/plain": [
       "<AxesSubplot:title={'center':'Distortion Score Elbow for KMeans Clustering'}, xlabel='k', ylabel='distortion score'>"
      ]
     },
     "execution_count": 32,
     "metadata": {},
     "output_type": "execute_result"
    }
   ],
   "source": [
    "plt.figure(figsize=(12, 8))\n",
    "elbow_graph = KElbowVisualizer(KMeans(random_state=43), k=10)\n",
    "elbow_graph.fit(transformed)\n",
    "elbow_graph.show()"
   ]
  },
  {
   "cell_type": "markdown",
   "metadata": {},
   "source": [
    "From above it is clear that k=4"
   ]
  },
  {
   "cell_type": "code",
   "execution_count": 33,
   "metadata": {
    "execution": {
     "iopub.execute_input": "2022-07-31T07:27:39.421419Z",
     "iopub.status.busy": "2022-07-31T07:27:39.420408Z",
     "iopub.status.idle": "2022-07-31T07:27:40.802415Z",
     "shell.execute_reply": "2022-07-31T07:27:40.801226Z",
     "shell.execute_reply.started": "2022-07-31T07:27:39.421382Z"
    }
   },
   "outputs": [],
   "source": [
    "# using k-means to form clusters\n",
    "kmeans = KMeans(n_clusters=4, random_state=42)\n",
    "subset['Clusters'] = kmeans.fit_predict(transformed) #fit the data and adding back clusters to the data in clusters column"
   ]
  },
  {
   "cell_type": "code",
   "execution_count": 34,
   "metadata": {
    "execution": {
     "iopub.execute_input": "2022-07-31T07:27:40.809507Z",
     "iopub.status.busy": "2022-07-31T07:27:40.804373Z",
     "iopub.status.idle": "2022-07-31T07:27:40.826560Z",
     "shell.execute_reply": "2022-07-31T07:27:40.825223Z",
     "shell.execute_reply.started": "2022-07-31T07:27:40.809452Z"
    }
   },
   "outputs": [
    {
     "data": {
      "text/html": [
       "<div>\n",
       "<style scoped>\n",
       "    .dataframe tbody tr th:only-of-type {\n",
       "        vertical-align: middle;\n",
       "    }\n",
       "\n",
       "    .dataframe tbody tr th {\n",
       "        vertical-align: top;\n",
       "    }\n",
       "\n",
       "    .dataframe thead th {\n",
       "        text-align: right;\n",
       "    }\n",
       "</style>\n",
       "<table border=\"1\" class=\"dataframe\">\n",
       "  <thead>\n",
       "    <tr style=\"text-align: right;\">\n",
       "      <th></th>\n",
       "      <th>Income</th>\n",
       "      <th>Kidhome</th>\n",
       "      <th>Teenhome</th>\n",
       "      <th>Age</th>\n",
       "      <th>Partner</th>\n",
       "      <th>Education_Level</th>\n",
       "      <th>Clusters</th>\n",
       "    </tr>\n",
       "  </thead>\n",
       "  <tbody>\n",
       "    <tr>\n",
       "      <th>0</th>\n",
       "      <td>58138.0</td>\n",
       "      <td>0</td>\n",
       "      <td>0</td>\n",
       "      <td>57</td>\n",
       "      <td>No</td>\n",
       "      <td>Graduate</td>\n",
       "      <td>2</td>\n",
       "    </tr>\n",
       "    <tr>\n",
       "      <th>1</th>\n",
       "      <td>46344.0</td>\n",
       "      <td>1</td>\n",
       "      <td>1</td>\n",
       "      <td>60</td>\n",
       "      <td>No</td>\n",
       "      <td>Graduate</td>\n",
       "      <td>2</td>\n",
       "    </tr>\n",
       "    <tr>\n",
       "      <th>2</th>\n",
       "      <td>71613.0</td>\n",
       "      <td>0</td>\n",
       "      <td>0</td>\n",
       "      <td>49</td>\n",
       "      <td>Yes</td>\n",
       "      <td>Graduate</td>\n",
       "      <td>1</td>\n",
       "    </tr>\n",
       "    <tr>\n",
       "      <th>3</th>\n",
       "      <td>26646.0</td>\n",
       "      <td>1</td>\n",
       "      <td>0</td>\n",
       "      <td>30</td>\n",
       "      <td>Yes</td>\n",
       "      <td>Graduate</td>\n",
       "      <td>0</td>\n",
       "    </tr>\n",
       "    <tr>\n",
       "      <th>4</th>\n",
       "      <td>58293.0</td>\n",
       "      <td>1</td>\n",
       "      <td>0</td>\n",
       "      <td>33</td>\n",
       "      <td>Yes</td>\n",
       "      <td>Postgraduate</td>\n",
       "      <td>1</td>\n",
       "    </tr>\n",
       "  </tbody>\n",
       "</table>\n",
       "</div>"
      ],
      "text/plain": [
       "    Income  Kidhome  Teenhome  Age Partner Education_Level  Clusters\n",
       "0  58138.0        0         0   57      No        Graduate         2\n",
       "1  46344.0        1         1   60      No        Graduate         2\n",
       "2  71613.0        0         0   49     Yes        Graduate         1\n",
       "3  26646.0        1         0   30     Yes        Graduate         0\n",
       "4  58293.0        1         0   33     Yes    Postgraduate         1"
      ]
     },
     "execution_count": 34,
     "metadata": {},
     "output_type": "execute_result"
    }
   ],
   "source": [
    "subset.head()"
   ]
  },
  {
   "cell_type": "code",
   "execution_count": 35,
   "metadata": {
    "execution": {
     "iopub.execute_input": "2022-07-31T07:27:41.158880Z",
     "iopub.status.busy": "2022-07-31T07:27:41.158487Z",
     "iopub.status.idle": "2022-07-31T07:27:41.335146Z",
     "shell.execute_reply": "2022-07-31T07:27:41.334252Z",
     "shell.execute_reply.started": "2022-07-31T07:27:41.158850Z"
    }
   },
   "outputs": [
    {
     "data": {
      "image/png": "[encoded data removed]",
      "text/plain": [
       "<Figure size 1200x800 with 1 Axes>"
      ]
     },
     "metadata": {},
     "output_type": "display_data"
    }
   ],
   "source": [
    "# count plot to see number of customers in each cluster\n",
    "plt.figure(figsize=(12, 8))\n",
    "sns.countplot(x='Clusters', data=subset, palette=palette)\n",
    "plt.title('Customer Distribution Within Clusters')\n",
    "plt.show()"
   ]
  },
  {
   "cell_type": "markdown",
   "metadata": {},
   "source": [
    "<div style=\"color:white;\n",
    "           display:fill;\n",
    "           background-color:#29285D;\n",
    "           padding: 10px;\n",
    "           font-family:Verdana;\n",
    "           letter-spacing:0.5px\">\n",
    "    <h3 style=\"color:white;padding-left:20px\"><b>Observations 👀</b></h3>\n",
    "       <p style=\"color:white;font-size:110%;padding-left:50px\">\n",
    "           1. Cluster 2 has highest number of customers <br>\n",
    "           2. Cluster 3 has least number of customers <br>\n",
    "        </p>\n",
    "    </div>"
   ]
  },
  {
   "cell_type": "markdown",
   "metadata": {},
   "source": [
    "### Lets find out what number of customers in each cluster have how many Kids or Teens in household, how many of them have partner and their education level"
   ]
  },
  {
   "cell_type": "code",
   "execution_count": 36,
   "metadata": {
    "execution": {
     "iopub.execute_input": "2022-07-31T07:31:04.853215Z",
     "iopub.status.busy": "2022-07-31T07:31:04.852070Z",
     "iopub.status.idle": "2022-07-31T07:31:05.686034Z",
     "shell.execute_reply": "2022-07-31T07:31:05.684929Z",
     "shell.execute_reply.started": "2022-07-31T07:31:04.853175Z"
    }
   },
   "outputs": [
    {
     "data": {
      "image/png": "[encoded data removed]",
      "text/plain": [
       "<Figure size 2500x2200 with 4 Axes>"
      ]
     },
     "metadata": {},
     "output_type": "display_data"
    }
   ],
   "source": [
    "# create list of categories\n",
    "count_cols= ['Kidhome','Teenhome','Partner','Education_Level']\n",
    "\n",
    "_, ax1 = plt.subplots(2,2, figsize=(25,22))\n",
    "\n",
    "for i, col in enumerate(count_cols):\n",
    "    sns.countplot(x='Clusters', data=subset, ax=ax1[i//2, i%2],hue=col,palette=palette)\n",
    "    \n",
    "plt.show()"
   ]
  },
  {
   "cell_type": "markdown",
   "metadata": {},
   "source": [
    "<div style=\"color:white;\n",
    "           display:fill;\n",
    "           background-color:#29285D;\n",
    "           padding: 10px;\n",
    "           font-family:Verdana;\n",
    "           letter-spacing:0.5px\">\n",
    "    <h3 style=\"color:white;padding-left:20px\"><b>Observations 👀</b></h3>\n",
    "\n",
    "    \n",
    "**Kidhome:**\n",
    "* Cluster 0 mostly has customers with 1 kid in household \n",
    "* Cluster 1 has customers with no kids in household\n",
    "* Cluster 2 also has large number of customers with no kids in household\n",
    "* Cluster 3 has customers with 0 and 1 kids in household\n",
    "    \n",
    "**Teenhome:**\n",
    "* Cluster 0 consist of customers with no teen in household & few of them have 1 Teen in household\n",
    "* Same goes for the cluster 1 & 3\n",
    "* Cluster 2 has customers with 1 Teen in household\n",
    "\n",
    "**Partner:**\n",
    "* All the customers in cluster 0 have partner\n",
    "* All The customers in cluster 3 have no partner\n",
    "* Cluster 1 & 2 has customers with and without partner, but most of them have partner\n",
    "\n",
    "**Education_Level:**\n",
    "* All clusters have customers with graduate, postgraduate and undergraduate background\n",
    "* All clusters have less number of customers with undergraduate background\n",
    "* Cluter 2 has highest number of postgraduates and graduates \n",
    "       \n",
    "    </div>"
   ]
  },
  {
   "cell_type": "code",
   "execution_count": 37,
   "metadata": {
    "execution": {
     "iopub.execute_input": "2022-07-31T08:04:41.113964Z",
     "iopub.status.busy": "2022-07-31T08:04:41.113222Z",
     "iopub.status.idle": "2022-07-31T08:04:41.494008Z",
     "shell.execute_reply": "2022-07-31T08:04:41.493110Z",
     "shell.execute_reply.started": "2022-07-31T08:04:41.113927Z"
    }
   },
   "outputs": [
    {
     "data": {
      "image/png": "[encoded data removed]",
      "text/plain": [
       "<Figure size 1200x800 with 1 Axes>"
      ]
     },
     "metadata": {},
     "output_type": "display_data"
    }
   ],
   "source": [
    "# Find out the customers which have kids in different clusters\n",
    "plt.figure(figsize=(12, 8))\n",
    "sns.barplot(x=subset[\"Clusters\"], y=subset[\"Kidhome\"],palette=palette)\n",
    "plt.title(\"Kids In Household vs Clusters\", size=15)\n",
    "plt.show()"
   ]
  },
  {
   "cell_type": "markdown",
   "metadata": {},
   "source": [
    "**Observation:**\n",
    "* Cluster 0 and 3 has the maximum number of customers with kids in household\n",
    "* Cluster 1 and 2 has the least number of customers with kids in household"
   ]
  },
  {
   "cell_type": "code",
   "execution_count": 38,
   "metadata": {
    "execution": {
     "iopub.execute_input": "2022-07-31T08:05:27.877854Z",
     "iopub.status.busy": "2022-07-31T08:05:27.877175Z",
     "iopub.status.idle": "2022-07-31T08:05:28.259077Z",
     "shell.execute_reply": "2022-07-31T08:05:28.257972Z",
     "shell.execute_reply.started": "2022-07-31T08:05:27.877818Z"
    }
   },
   "outputs": [
    {
     "data": {
      "image/png": "[encoded data removed]",
      "text/plain": [
       "<Figure size 1200x800 with 1 Axes>"
      ]
     },
     "metadata": {},
     "output_type": "display_data"
    }
   ],
   "source": [
    "# Find out the customers which have kids in different clusters\n",
    "plt.figure(figsize=(12, 8))\n",
    "sns.barplot(x=subset[\"Clusters\"], y=subset[\"Teenhome\"],palette=palette)\n",
    "plt.title(\"Teens In Household vs Clusters\", size=15)\n",
    "plt.show()"
   ]
  },
  {
   "cell_type": "markdown",
   "metadata": {},
   "source": [
    "<div style=\"color:white;\n",
    "           display:fill;\n",
    "           background-color:#29285D;\n",
    "           padding: 10px;\n",
    "           font-family:Verdana;\n",
    "           letter-spacing:0.5px\">\n",
    "    <h3 style=\"color:white;padding-left:20px\"><b>Observations 👀</b></h3>\n",
    "       <p style=\"color:white;font-size:110%;padding-left:50px\">\n",
    "           1. Cluster 2 has maximum number of customers having Teens in household <br>\n",
    "           2. Remaining Clusters also have customers with Teens in household but they are less as compared to cluster 2 <br>\n",
    "        </p>\n",
    "    </div>"
   ]
  },
  {
   "cell_type": "code",
   "execution_count": 39,
   "metadata": {
    "execution": {
     "iopub.execute_input": "2022-07-31T08:08:46.053675Z",
     "iopub.status.busy": "2022-07-31T08:08:46.052860Z",
     "iopub.status.idle": "2022-07-31T08:08:46.425818Z",
     "shell.execute_reply": "2022-07-31T08:08:46.424964Z",
     "shell.execute_reply.started": "2022-07-31T08:08:46.053633Z"
    }
   },
   "outputs": [
    {
     "data": {
      "image/png": "[encoded data removed]",
      "text/plain": [
       "<Figure size 1200x800 with 1 Axes>"
      ]
     },
     "metadata": {},
     "output_type": "display_data"
    }
   ],
   "source": [
    "# Lets findout income of customers with in clusters\n",
    "plt.figure(figsize=(12, 8))\n",
    "sns.barplot(x=subset[\"Clusters\"], y=subset[\"Income\"],palette=palette)\n",
    "plt.title(\"Income vs Clusters\", size=15)\n",
    "plt.show()"
   ]
  },
  {
   "cell_type": "markdown",
   "metadata": {},
   "source": [
    "<div style=\"color:white;\n",
    "           display:fill;\n",
    "           background-color:#29285D;\n",
    "           padding: 10px;\n",
    "           font-family:Verdana;\n",
    "           letter-spacing:0.5px\">\n",
    "    <h3 style=\"color:white;padding-left:20px\"><b>Observations 👀</b></h3>\n",
    "       <p style=\"color:white;font-size:110%;padding-left:50px\">\n",
    "           1. Cluster 1 has high Income followed by cluster 2. Which is little strange cause cluster 2 has highest number of customers and most number of post graduates & graduates as compared to cluster 1<br>\n",
    "           2. Cluster 0 and 3 has least income<br>\n",
    "        </p>\n",
    "    </div>"
   ]
  },
  {
   "cell_type": "markdown",
   "metadata": {},
   "source": [
    "### Following graphs shows what are the contributing factors in income"
   ]
  },
  {
   "cell_type": "code",
   "execution_count": 40,
   "metadata": {
    "execution": {
     "iopub.execute_input": "2022-07-31T08:10:47.076651Z",
     "iopub.status.busy": "2022-07-31T08:10:47.076220Z",
     "iopub.status.idle": "2022-07-31T08:10:49.528236Z",
     "shell.execute_reply": "2022-07-31T08:10:49.527184Z",
     "shell.execute_reply.started": "2022-07-31T08:10:47.076615Z"
    }
   },
   "outputs": [
    {
     "data": {
      "image/png": "[encoded data removed]",
      "text/plain": [
       "<Figure size 2500x2200 with 4 Axes>"
      ]
     },
     "metadata": {},
     "output_type": "display_data"
    }
   ],
   "source": [
    "catcols= ['Kidhome','Teenhome','Partner','Education_Level']\n",
    "\n",
    "_, ax1 = plt.subplots(2,2, figsize=(25,22))\n",
    "\n",
    "for i, col in enumerate(catcols):\n",
    "    sns.barplot(x='Clusters', y='Income', data=subset, ax=ax1[i//2, i%2],hue=col,palette=palette)\n",
    "    \n",
    "plt.show()"
   ]
  },
  {
   "cell_type": "markdown",
   "metadata": {},
   "source": [
    "<div style=\"color:white;\n",
    "           display:fill;\n",
    "           background-color:#29285D;\n",
    "           padding: 10px;\n",
    "           font-family:Verdana;\n",
    "           letter-spacing:0.5px\">\n",
    "    <h3 style=\"color:white;padding-left:20px\"><b>Observations 👀</b></h3>\n",
    "       <p style=\"color:white;font-size:110%;padding-left:50px\">\n",
    "           1. Very interesting thing i can see from first 2 plots is, We saw before the number of  customers with 2 kids or teens is very very less still their income is similar to the customers which have no kids or teens or have 1 kid & teen. So I conclude that the customers with more than 1 kid or teen in houehold has high household income 1<br>\n",
    "           2. From last 2 plots i think education_level and partner has nothing to do with income. Infact undergraduates are earniing equal or more than graduates and postgraduates within each cluster.<br>\n",
    "        </p>\n",
    "    </div>"
   ]
  },
  {
   "cell_type": "markdown",
   "metadata": {},
   "source": [
    "Cluster 1\n",
    "- fewer customers but with the highest income\n",
    "- No kids, few have 1 teen\n",
    "- Graduates & postgraduates\n",
    "- Most of them have partner\n",
    "\n",
    "Cluster 2\n",
    "- Max number of customers & high income\n",
    "- No kids, few have 1 or 2 Teen \n",
    "- High number of postgraduates & graduates\n",
    "- Most of them have partner\n",
    "\n",
    "Cluster 0\n",
    "- Least income\n",
    "- 1 kid & few have 1 Teen also \n",
    "- Graduates & postgraduates but also has most undergraduates than any cluster\n",
    "- All have partner\n",
    "\n",
    "Cluster 3\n",
    "- fewer customers & less income\n",
    "- 1 kid & few have 1 Teen also\n",
    "- Graduates & postgraduates\n",
    "- All have no partner"
   ]
  },
  {
   "cell_type": "markdown",
   "metadata": {},
   "source": [
    "# <p style=\"background-color:#29285D;font-family:verdana;color:white;font-size:100%;text-align:center;border-radius:10px 10px;letter-spacing:0.5px;padding: 10px\">MODEL BUILDING</p> "
   ]
  },
  {
   "cell_type": "markdown",
   "metadata": {},
   "source": [
    "### Now lets build a multi classification model that will predict the cluster for given input of perticular customer\n"
   ]
  },
  {
   "cell_type": "code",
   "execution_count": 41,
   "metadata": {
    "execution": {
     "iopub.status.busy": "2022-07-31T07:21:20.933816Z",
     "iopub.status.idle": "2022-07-31T07:21:20.934450Z",
     "shell.execute_reply": "2022-07-31T07:21:20.934184Z",
     "shell.execute_reply.started": "2022-07-31T07:21:20.934133Z"
    }
   },
   "outputs": [],
   "source": [
    "# import required libraries\n",
    "from sklearn.model_selection import train_test_split\n",
    "from sklearn.metrics import classification_report, confusion_matrix\n",
    "from sklearn.ensemble import GradientBoostingClassifier"
   ]
  },
  {
   "cell_type": "code",
   "execution_count": 42,
   "metadata": {
    "execution": {
     "iopub.status.busy": "2022-07-31T07:21:20.936265Z",
     "iopub.status.idle": "2022-07-31T07:21:20.936893Z",
     "shell.execute_reply": "2022-07-31T07:21:20.936542Z",
     "shell.execute_reply.started": "2022-07-31T07:21:20.936516Z"
    }
   },
   "outputs": [],
   "source": [
    "# separate features and target column\n",
    "x = subset.drop('Clusters', axis=1)\n",
    "y = subset['Clusters']"
   ]
  },
  {
   "cell_type": "code",
   "execution_count": 43,
   "metadata": {
    "execution": {
     "iopub.status.busy": "2022-07-31T07:21:20.939284Z",
     "iopub.status.idle": "2022-07-31T07:21:20.939765Z",
     "shell.execute_reply": "2022-07-31T07:21:20.939554Z",
     "shell.execute_reply.started": "2022-07-31T07:21:20.939535Z"
    }
   },
   "outputs": [],
   "source": [
    "# create train and test data\n",
    "x_train, x_test, y_train, y_test = train_test_split(x,y, test_size=0.3, random_state=42)"
   ]
  },
  {
   "cell_type": "code",
   "execution_count": 44,
   "metadata": {
    "execution": {
     "iopub.status.busy": "2022-07-31T07:21:20.941354Z",
     "iopub.status.idle": "2022-07-31T07:21:20.941967Z",
     "shell.execute_reply": "2022-07-31T07:21:20.941785Z",
     "shell.execute_reply.started": "2022-07-31T07:21:20.941766Z"
    }
   },
   "outputs": [],
   "source": [
    "# adding GradientBoostingClassifier to transformer pipeline\n",
    "final_pipeline = make_pipeline(transformer, GradientBoostingClassifier())"
   ]
  },
  {
   "cell_type": "code",
   "execution_count": 45,
   "metadata": {
    "execution": {
     "iopub.status.busy": "2022-07-31T07:21:20.943584Z",
     "iopub.status.idle": "2022-07-31T07:21:20.944011Z",
     "shell.execute_reply": "2022-07-31T07:21:20.943838Z",
     "shell.execute_reply.started": "2022-07-31T07:21:20.943819Z"
    }
   },
   "outputs": [
    {
     "data": {
      "text/plain": [
       "Pipeline(steps=[('columntransformer',\n",
       "                 ColumnTransformer(transformers=[('num',\n",
       "                                                  Pipeline(steps=[('standardscaler',\n",
       "                                                                   StandardScaler())]),\n",
       "                                                  ['Income', 'Age']),\n",
       "                                                 ('ordinal',\n",
       "                                                  Pipeline(steps=[('ordinalencoder',\n",
       "                                                                   OrdinalEncoder(categories=[['Undergraduate',\n",
       "                                                                                               'Graduate',\n",
       "                                                                                               'Postgraduate']]))]),\n",
       "                                                  ['Education_Level']),\n",
       "                                                 ('nominal',\n",
       "                                                  Pipeline(steps=[('onehotencoder',\n",
       "                                                                   OneHotEncoder())]),\n",
       "                                                  ['Partner'])])),\n",
       "                ('gradientboostingclassifier', GradientBoostingClassifier())])"
      ]
     },
     "execution_count": 45,
     "metadata": {},
     "output_type": "execute_result"
    }
   ],
   "source": [
    "# fit the data to new pipeline & model\n",
    "final_pipeline.fit(x_train, y_train)"
   ]
  },
  {
   "cell_type": "code",
   "execution_count": 46,
   "metadata": {
    "execution": {
     "iopub.status.busy": "2022-07-31T07:21:20.945984Z",
     "iopub.status.idle": "2022-07-31T07:21:20.946438Z",
     "shell.execute_reply": "2022-07-31T07:21:20.946239Z",
     "shell.execute_reply.started": "2022-07-31T07:21:20.946220Z"
    }
   },
   "outputs": [
    {
     "data": {
      "text/plain": [
       "0.9702380952380952"
      ]
     },
     "execution_count": 46,
     "metadata": {},
     "output_type": "execute_result"
    }
   ],
   "source": [
    "# check the accuracy of our model\n",
    "final_pipeline.score(x_test, y_test)"
   ]
  },
  {
   "cell_type": "markdown",
   "metadata": {},
   "source": [
    "### pipeline with all the transformation and trained model"
   ]
  },
  {
   "cell_type": "code",
   "execution_count": 47,
   "metadata": {
    "execution": {
     "iopub.status.busy": "2022-07-31T07:21:20.948039Z",
     "iopub.status.idle": "2022-07-31T07:21:20.948668Z",
     "shell.execute_reply": "2022-07-31T07:21:20.948478Z",
     "shell.execute_reply.started": "2022-07-31T07:21:20.948449Z"
    }
   },
   "outputs": [],
   "source": [
    "import pickle"
   ]
  },
  {
   "cell_type": "code",
   "execution_count": 48,
   "metadata": {
    "execution": {
     "iopub.status.busy": "2022-07-31T07:21:20.950899Z",
     "iopub.status.idle": "2022-07-31T07:21:20.951327Z",
     "shell.execute_reply": "2022-07-31T07:21:20.951126Z",
     "shell.execute_reply.started": "2022-07-31T07:21:20.951108Z"
    }
   },
   "outputs": [],
   "source": [
    "filename = 'classifier.pkl' # create a variable with name you wanna give to the file\n",
    "pickle.dump(final_pipeline, open(filename,'wb')) "
   ]
  },
  {
   "cell_type": "code",
   "execution_count": null,
   "metadata": {},
   "outputs": [],
   "source": []
  },
  {
   "cell_type": "code",
   "execution_count": null,
   "metadata": {},
   "outputs": [],
   "source": []
  },
  {
   "cell_type": "code",
   "execution_count": null,
   "metadata": {},
   "outputs": [],
   "source": []
  },
  {
   "cell_type": "code",
   "execution_count": null,
   "metadata": {},
   "outputs": [],
   "source": []
  },
  {
   "cell_type": "code",
   "execution_count": null,
   "metadata": {},
   "outputs": [],
   "source": []
  },
  {
   "cell_type": "code",
   "execution_count": null,
   "metadata": {},
   "outputs": [],
   "source": []
  },
  {
   "cell_type": "code",
   "execution_count": null,
   "metadata": {},
   "outputs": [],
   "source": []
  },
  {
   "cell_type": "markdown",
   "metadata": {},
   "source": [
    "# <p style=\"background-color:#29285D;font-family:verdana;color:white;font-size:100%;text-align:center;border-radius:10px 10px;letter-spacing:0.5px;padding: 10px\">MODEL DEPLOYMENT</p> "
   ]
  },
  {
   "cell_type": "code",
   "execution_count": null,
   "metadata": {
    "execution": {
     "iopub.status.busy": "2022-07-31T07:21:20.953136Z",
     "iopub.status.idle": "2022-07-31T07:21:20.953565Z",
     "shell.execute_reply": "2022-07-31T07:21:20.953380Z",
     "shell.execute_reply.started": "2022-07-31T07:21:20.953362Z"
    }
   },
   "outputs": [],
   "source": [
    "# Install streamlit \n",
    "# NB : If any error occurs during installation process , run it again\n",
    "!pip install -q streamlit\n",
    "!npm install -g localtunnel -U"
   ]
  },
  {
   "cell_type": "code",
   "execution_count": null,
   "metadata": {
    "execution": {
     "iopub.status.busy": "2022-07-31T07:21:20.955556Z",
     "iopub.status.idle": "2022-07-31T07:21:20.956014Z",
     "shell.execute_reply": "2022-07-31T07:21:20.955797Z",
     "shell.execute_reply.started": "2022-07-31T07:21:20.955772Z"
    }
   },
   "outputs": [],
   "source": [
    "%%writefile customer_segmentation_app.py \n",
    "\n",
    "\n",
    "# importing necessary libraries\n",
    "import pickle\n",
    "import streamlit as st\n",
    "import pandas as pd\n",
    "import numpy as np\n",
    "\n",
    "#load the model\n",
    "classifier = pickle.load(open('classifier.pkl','rb'))\n",
    "\n",
    "\n",
    "#page configuration\n",
    "st.set_page_config(page_title = 'Customer Segmentation Web App', layout='centered')\n",
    "st.title('Customer Segmentation Web App')\n",
    "\n",
    "# customer segmentation function\n",
    "def segment_customers(input_data):\n",
    "    \n",
    "    prediction=classifier.predict(pd.DataFrame(input_data, columns=['Income','Kidhome','Teenhome','Age','Partner','Education_Level']))\n",
    "    print(prediction)\n",
    "    pred_1 = 0\n",
    "    if prediction == 0:\n",
    "            pred_1 = 'cluster 0'\n",
    "\n",
    "    elif prediction == 1:\n",
    "            pred_1 = 'cluster 1'\n",
    "\n",
    "    elif prediction == 2:\n",
    "            pred_1 = 'cluster 2'\n",
    "\n",
    "    elif prediction == 3:\n",
    "            pred_1 = 'cluster 3'\n",
    "\n",
    "    return pred_1\n",
    "\n",
    "def main():\n",
    "    \n",
    "    Income = st.text_input(\"Type In The Household Income\")\n",
    "    Kidhome = st.radio ( \"Select Number Of Kids In Household\", ('0', '1','2') )\n",
    "    Teenhome = st.radio ( \"Select Number Of Teens In Household\", ('0', '1','2') )\n",
    "    Age = st.slider ( \"Select Age\", 18, 85 )\n",
    "    Partner = st.radio ( \"Livig With Partner?\", ('Yes', 'No') )\n",
    "    Education_Level = st.radio ( \"Select Education\", (\"Undergraduate\", \"Graduate\", \"Postgraduate\") )\n",
    "    \n",
    "    result = \"\"\n",
    "\n",
    "    # when 'Predict' is clicked, make the prediction and store it\n",
    "    if st.button(\"Segment Customer\"):\n",
    "        result=segment_customers([[Income,Kidhome,Teenhome,Age,Partner,Education_Level]])\n",
    "    \n",
    "    st.success(result)\n",
    "    \n",
    "\n",
    "if __name__ == '__main__':\n",
    "        main ()\n"
   ]
  },
  {
   "cell_type": "code",
   "execution_count": null,
   "metadata": {},
   "outputs": [],
   "source": [
    "!streamlit run customer_segmentation_app.py & npx localtunnel --port 8505"
   ]
  },
  {
   "cell_type": "code",
   "execution_count": null,
   "metadata": {},
   "outputs": [],
   "source": []
  }
 ],
 "metadata": {
  "kernelspec": {
   "display_name": "Python 3 (ipykernel)",
   "language": "python",
   "name": "python3"
  },
  "language_info": {
   "codemirror_mode": {
    "name": "ipython",
    "version": 3
   },
   "file_extension": ".py",
   "mimetype": "text/x-python",
   "name": "python",
   "nbconvert_exporter": "python",
   "pygments_lexer": "ipython3",
   "version": "3.9.13"
  }
 },
 "nbformat": 4,
 "nbformat_minor": 4
}
